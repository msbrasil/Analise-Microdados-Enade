{
 "cells": [
  {
   "cell_type": "code",
   "execution_count": 72,
   "metadata": {},
   "outputs": [],
   "source": [
    "import pandas as pd # pacote para manipulação de dados"
   ]
  },
  {
   "cell_type": "code",
   "execution_count": 73,
   "metadata": {},
   "outputs": [],
   "source": [
    "path = 'D:/UFPR/2º Semestre 2021/Estatística Econômica e Introdução à Econometria/1. Relatório Enade/2018/3.DADOS/microdados_enade_2018.txt' # caminho do arquivo\n",
    "microdados_enade = pd.read_table(path, sep=';', decimal=',') # importa arquivo"
   ]
  },
  {
   "cell_type": "code",
   "execution_count": 88,
   "metadata": {},
   "outputs": [],
   "source": [
    "enade_economia = microdados_enade.where(microdados_enade.CO_GRUPO==13).filter([\n",
    "    'CO_IES',               # Código da IES \n",
    "    'CO_CATEGAD',           # Código categoria administrativa da IES\n",
    "    'CO_CURSO',             # Código do curso no ENADE\n",
    "    'CO_MODALIDADE',        # Código da modalidade de ensino\n",
    "    'CO_MUNIC_CURSO',       # Código do município do curso\n",
    "    'CO_UF_CURSO',          # Código da UF do curso\n",
    "    'CO_REGIAO_CURSO',      # Código da região do curso\n",
    "    'CO_TURNO_GRADUACAO',   # Código do turno\n",
    "    'NT_GER',               # Nota bruta - média\n",
    "    'QE_I04',               # Escolaridade do pai\n",
    "    'QE_I05',               # Escolaridade da mãe\n",
    "    'QE_I08',               # Renda total da família\n",
    "    'QE_I17',               # Onde cursou ensino médio\n",
    "    'QE_I21',                # Alguém da família concluiu ensino superior\n",
    "    'NT_FG',                # Nota bruta formação geral\n",
    "    'NT_CE'                 # Nota bruta componente específico\n",
    "]).dropna()"
   ]
  },
  {
   "cell_type": "code",
   "execution_count": 89,
   "metadata": {},
   "outputs": [
    {
     "data": {
      "text/plain": [
       "(8024, 16)"
      ]
     },
     "execution_count": 89,
     "metadata": {},
     "output_type": "execute_result"
    }
   ],
   "source": [
    "enade_economia.shape"
   ]
  },
  {
   "cell_type": "markdown",
   "metadata": {},
   "source": [
    "### tratamento"
   ]
  },
  {
   "cell_type": "markdown",
   "metadata": {},
   "source": [
    "Região dos Cursos"
   ]
  },
  {
   "cell_type": "code",
   "execution_count": 90,
   "metadata": {},
   "outputs": [],
   "source": [
    "regioes = pd.read_excel('co_regiao.xlsx') #importa planilha com dados de referencia para a coluna de regiao do curso"
   ]
  },
  {
   "cell_type": "code",
   "execution_count": 91,
   "metadata": {},
   "outputs": [],
   "source": [
    "dict_regioes = {} #Transforma o df das regioes em dicionario\n",
    "for i in range(0,len(regioes)):\n",
    "    dict_regioes[regioes['Cod'][i]] = regioes['Regiao'][i]"
   ]
  },
  {
   "cell_type": "code",
   "execution_count": 92,
   "metadata": {},
   "outputs": [],
   "source": [
    "enade_economia['CO_REGIAO_CURSO'] = [dict_regioes[resp] for resp in enade_economia.CO_REGIAO_CURSO] #substitui os valores pelo nome da regiao"
   ]
  },
  {
   "cell_type": "markdown",
   "metadata": {},
   "source": [
    "UFs dos Cursos"
   ]
  },
  {
   "cell_type": "code",
   "execution_count": 93,
   "metadata": {},
   "outputs": [],
   "source": [
    "ufs = pd.read_excel('codigo-ufs.xlsx')"
   ]
  },
  {
   "cell_type": "code",
   "execution_count": 94,
   "metadata": {},
   "outputs": [],
   "source": [
    "dict_ufs = {} #Transforma o df das regioes em dicionario\n",
    "for i in range(0,len(ufs)):\n",
    "    dict_ufs[ufs['Cod'][i]] = ufs['Nome'][i]"
   ]
  },
  {
   "cell_type": "code",
   "execution_count": 95,
   "metadata": {},
   "outputs": [],
   "source": [
    "enade_economia['CO_UF_CURSO'] = [dict_ufs[resp] for resp in enade_economia.CO_UF_CURSO] #substitui os valores pelo nome da regiao"
   ]
  },
  {
   "cell_type": "markdown",
   "metadata": {},
   "source": [
    "Município dos Cursos"
   ]
  },
  {
   "cell_type": "code",
   "execution_count": 96,
   "metadata": {},
   "outputs": [],
   "source": [
    "municipios = pd.read_excel('codigos-municipios.xlsx')"
   ]
  },
  {
   "cell_type": "code",
   "execution_count": 97,
   "metadata": {},
   "outputs": [],
   "source": [
    "dict_mun = {} #Transforma o df das regioes em dicionario\n",
    "for i in range(0,len(municipios)):\n",
    "    dict_mun[municipios['Cod'][i]] = municipios['Municipio'][i]"
   ]
  },
  {
   "cell_type": "code",
   "execution_count": 98,
   "metadata": {},
   "outputs": [],
   "source": [
    "enade_economia['CO_MUNIC_CURSO'] = [dict_mun[resp] for resp in enade_economia.CO_MUNIC_CURSO] #substitui os valores pelo nome da regiao"
   ]
  },
  {
   "cell_type": "markdown",
   "metadata": {},
   "source": [
    "Familiar com superior"
   ]
  },
  {
   "cell_type": "code",
   "execution_count": 99,
   "metadata": {},
   "outputs": [],
   "source": [
    "dict_QE_I21 = {'A':'Sim','B':'Não', 'Ausente':'Ausente'}"
   ]
  },
  {
   "cell_type": "code",
   "execution_count": 100,
   "metadata": {},
   "outputs": [],
   "source": [
    "enade_economia['QE_I21'] = [dict_QE_I21[resp] for resp in enade_economia.QE_I21] #substitui os valores pelo nome da regiao"
   ]
  },
  {
   "cell_type": "markdown",
   "metadata": {},
   "source": [
    "Escolaridade dos Pais"
   ]
  },
  {
   "cell_type": "code",
   "execution_count": 101,
   "metadata": {},
   "outputs": [],
   "source": [
    "dict_escolaridade_pais = {\n",
    "\"A\":\"Nenhuma\",\n",
    "\"B\":\"Ensino Fundamental: 1º ao 5º ano\",\n",
    "\"C\":\"Ensino Fundamental: 6º ao 9º ano\",\n",
    "\"D\":\"Ensino médio\",\n",
    "\"E\":\"Ensino Superior\",\n",
    "\"F\":\"Pós-graduação\"\n",
    "}"
   ]
  },
  {
   "cell_type": "code",
   "execution_count": 102,
   "metadata": {},
   "outputs": [],
   "source": [
    "enade_economia['QE_I04'] = [dict_escolaridade_pais[resp] for resp in enade_economia.QE_I04] #substitui os valores pelo nome da regiao"
   ]
  },
  {
   "cell_type": "code",
   "execution_count": 103,
   "metadata": {},
   "outputs": [],
   "source": [
    "enade_economia['QE_I05'] = [dict_escolaridade_pais[resp] for resp in enade_economia.QE_I05] #substitui os valores pelo nome da regiao"
   ]
  },
  {
   "cell_type": "markdown",
   "metadata": {},
   "source": [
    "Turno da Graduação"
   ]
  },
  {
   "cell_type": "code",
   "execution_count": 104,
   "metadata": {},
   "outputs": [],
   "source": [
    "dict_turno = {\n",
    "1:\"Matutino\",\n",
    "2:\"Vespertino\",\n",
    "3:\"Integral\",\n",
    "4:\"Noturno\"\n",
    "}"
   ]
  },
  {
   "cell_type": "code",
   "execution_count": 105,
   "metadata": {},
   "outputs": [],
   "source": [
    "enade_economia['CO_TURNO_GRADUACAO'] = [dict_turno[resp] for resp in enade_economia.CO_TURNO_GRADUACAO] #substitui os valores pelo nome da regiao"
   ]
  },
  {
   "cell_type": "markdown",
   "metadata": {},
   "source": [
    "Onde cursou o ensino médio"
   ]
  },
  {
   "cell_type": "code",
   "execution_count": 106,
   "metadata": {},
   "outputs": [],
   "source": [
    "dict_ensino = {\n",
    "\"A\":\"Todo em escola pública\",\n",
    "\"B\":\"Todo em escola privada (particular)\",\n",
    "\"C\":\"Todo no exterior\",\n",
    "\"D\":\"A maior parte em escola pública\",\n",
    "\"E\":\"A maior parte em escola privada (particular)\",\n",
    "\"F\":\"Parte no Brasil e parte no exterior\"\n",
    "}"
   ]
  },
  {
   "cell_type": "code",
   "execution_count": 107,
   "metadata": {},
   "outputs": [],
   "source": [
    "enade_economia['QE_I17'] = [dict_ensino[resp] for resp in enade_economia.QE_I17] #substitui os valores pelo nome da regiao"
   ]
  },
  {
   "cell_type": "markdown",
   "metadata": {},
   "source": [
    "Modalidade do Curso"
   ]
  },
  {
   "cell_type": "code",
   "execution_count": 108,
   "metadata": {},
   "outputs": [],
   "source": [
    "dict_mod =  {\n",
    "1:\"Presencial\",\n",
    "2:\"A Distância\"\n",
    "}"
   ]
  },
  {
   "cell_type": "code",
   "execution_count": 109,
   "metadata": {},
   "outputs": [],
   "source": [
    "enade_economia['CO_MODALIDADE'] = [dict_mod[resp] for resp in enade_economia.CO_MODALIDADE] #substitui os valores pelo nome da regiao"
   ]
  },
  {
   "cell_type": "markdown",
   "metadata": {},
   "source": [
    "Categoria da IES"
   ]
  },
  {
   "cell_type": "code",
   "execution_count": 110,
   "metadata": {},
   "outputs": [],
   "source": [
    "categoria_ies = pd.read_excel('categoria-ies.xlsx')"
   ]
  },
  {
   "cell_type": "code",
   "execution_count": 111,
   "metadata": {},
   "outputs": [],
   "source": [
    "dict_categad = {} #Transforma o df das regioes em dicionario\n",
    "for i in range(0,len(categoria_ies)):\n",
    "    dict_categad[categoria_ies['Cod'][i]] = categoria_ies['Categoria'][i]"
   ]
  },
  {
   "cell_type": "code",
   "execution_count": 112,
   "metadata": {},
   "outputs": [],
   "source": [
    "enade_economia['CO_CATEGAD'] = [dict_categad[resp] for resp in enade_economia.CO_CATEGAD] #substitui os valores pelo nome da regiao"
   ]
  },
  {
   "cell_type": "markdown",
   "metadata": {},
   "source": [
    "Renda familiar"
   ]
  },
  {
   "cell_type": "code",
   "execution_count": 113,
   "metadata": {},
   "outputs": [],
   "source": [
    "dict_renda = {\n",
    "\"A\": \"Até 1,5 salário mínimo\",\n",
    "\"B\": \"De 1,5 a 3 salários mínimos\",\n",
    "\"C\": \"De 3 a 4,5 salários mínimos\",\n",
    "\"D\": \"De 4,5 a 6 salários mínimos\",\n",
    "\"E\": \"De 6 a 10 salários mínimos\",\n",
    "\"F\": \"De 10 a 30 salários mínimos\",\n",
    "\"G\": \"Acima de 30 salários mínimos\"\n",
    "}"
   ]
  },
  {
   "cell_type": "code",
   "execution_count": 114,
   "metadata": {},
   "outputs": [],
   "source": [
    "enade_economia['QE_I08'] = [dict_renda[resp] for resp in enade_economia.QE_I08] #substitui os valores pelo nome da regiao"
   ]
  },
  {
   "cell_type": "markdown",
   "metadata": {},
   "source": [
    "### Importação"
   ]
  },
  {
   "cell_type": "code",
   "execution_count": 115,
   "metadata": {},
   "outputs": [],
   "source": [
    "enade_economia.to_excel('microdados_enade_economia_2018.xlsx', header=True)"
   ]
  }
 ],
 "metadata": {
  "interpreter": {
   "hash": "08820d80d9da2e8b8362dd7eb175f13515edfba605b5089051618ffd8d1308cc"
  },
  "kernelspec": {
   "display_name": "Python 3.10.1 64-bit",
   "language": "python",
   "name": "python3"
  },
  "language_info": {
   "codemirror_mode": {
    "name": "ipython",
    "version": 3
   },
   "file_extension": ".py",
   "mimetype": "text/x-python",
   "name": "python",
   "nbconvert_exporter": "python",
   "pygments_lexer": "ipython3",
   "version": "3.10.1"
  },
  "orig_nbformat": 4
 },
 "nbformat": 4,
 "nbformat_minor": 2
}
