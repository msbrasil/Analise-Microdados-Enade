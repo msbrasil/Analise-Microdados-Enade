{
 "cells": [
  {
   "cell_type": "markdown",
   "metadata": {},
   "source": [
    "# índice Notas"
   ]
  },
  {
   "cell_type": "markdown",
   "metadata": {},
   "source": [
    "## Pacotes"
   ]
  },
  {
   "cell_type": "code",
   "execution_count": 1,
   "metadata": {},
   "outputs": [],
   "source": [
    "import pandas as pd #pacote para manipulação de dados\n",
    "import matplotlib.pyplot as plt # pacote para criar gráficos\n",
    "import numpy as np\n",
    "\n",
    "import matplotlib\n",
    "matplotlib.rcParams['figure.figsize'] = (16,8) # define o tamanho padrão dos gráficos criados\n"
   ]
  },
  {
   "cell_type": "markdown",
   "metadata": {},
   "source": [
    "### Importação dos Dados"
   ]
  },
  {
   "cell_type": "code",
   "execution_count": 2,
   "metadata": {},
   "outputs": [],
   "source": [
    "path = r\"D:\\UFPR\\2º Semestre 2021\\Estatística Econômica e Introdução à Econometria\\1. Relatório Enade\\2018\\3.DADOS\\microdados_enade_2018.txt\"\n",
    "enade = pd.read_table(path, sep=';', decimal=',')"
   ]
  },
  {
   "cell_type": "markdown",
   "metadata": {},
   "source": [
    "# ANTES DE EXECUTAR O FILTRO, DROPAR AS NOTAS ZERO DA BASE"
   ]
  },
  {
   "cell_type": "code",
   "execution_count": 22,
   "metadata": {},
   "outputs": [],
   "source": [
    "notas = enade.filter(['CO_IES', 'NT_GER']).dropna()"
   ]
  },
  {
   "cell_type": "code",
   "execution_count": 23,
   "metadata": {},
   "outputs": [],
   "source": [
    "notas = notas[notas.NT_GER != 0]"
   ]
  },
  {
   "cell_type": "code",
   "execution_count": 66,
   "metadata": {},
   "outputs": [
    {
     "data": {
      "text/html": [
       "<div>\n",
       "<style scoped>\n",
       "    .dataframe tbody tr th:only-of-type {\n",
       "        vertical-align: middle;\n",
       "    }\n",
       "\n",
       "    .dataframe tbody tr th {\n",
       "        vertical-align: top;\n",
       "    }\n",
       "\n",
       "    .dataframe thead th {\n",
       "        text-align: right;\n",
       "    }\n",
       "</style>\n",
       "<table border=\"1\" class=\"dataframe\">\n",
       "  <thead>\n",
       "    <tr style=\"text-align: right;\">\n",
       "      <th></th>\n",
       "      <th>NT_GER</th>\n",
       "    </tr>\n",
       "  </thead>\n",
       "  <tbody>\n",
       "    <tr>\n",
       "      <th>337618</th>\n",
       "      <td>24.4</td>\n",
       "    </tr>\n",
       "  </tbody>\n",
       "</table>\n",
       "</div>"
      ],
      "text/plain": [
       "        NT_GER\n",
       "337618    24.4"
      ]
     },
     "execution_count": 66,
     "metadata": {},
     "output_type": "execute_result"
    }
   ],
   "source": [
    "notas.iloc[51302:51303,1:2]"
   ]
  },
  {
   "cell_type": "code",
   "execution_count": 6,
   "metadata": {},
   "outputs": [
    {
     "data": {
      "text/plain": [
       "51301.88888888889"
      ]
     },
     "execution_count": 6,
     "metadata": {},
     "output_type": "execute_result"
    }
   ],
   "source": [
    "461717 / 9 "
   ]
  },
  {
   "cell_type": "code",
   "execution_count": 37,
   "metadata": {},
   "outputs": [],
   "source": [
    "notas.sort_values('NT_GER',ascending=True, inplace=True)"
   ]
  },
  {
   "cell_type": "markdown",
   "metadata": {},
   "source": [
    "### função que acha o decil(4 ou 9)"
   ]
  },
  {
   "cell_type": "code",
   "execution_count": 62,
   "metadata": {},
   "outputs": [
    {
     "data": {
      "text/plain": [
       "23.7"
      ]
     },
     "execution_count": 62,
     "metadata": {},
     "output_type": "execute_result"
    }
   ],
   "source": [
    "np.quantile(notas['NT_GER'], 0.1)"
   ]
  },
  {
   "cell_type": "code",
   "execution_count": 12,
   "metadata": {},
   "outputs": [
    {
     "data": {
      "text/plain": [
       "29.7"
      ]
     },
     "execution_count": 12,
     "metadata": {},
     "output_type": "execute_result"
    }
   ],
   "source": [
    "np.quantile(notas.where(notas.CO_IES == 571)['NT_GER'].dropna(), 0.1)"
   ]
  },
  {
   "cell_type": "markdown",
   "metadata": {},
   "source": [
    "### cria a tabela para cada universidade pelo decil"
   ]
  },
  {
   "cell_type": "code",
   "execution_count": 6,
   "metadata": {},
   "outputs": [],
   "source": [
    "notas40 = notas.where((notas.CO_IES == 571) & (notas.NT_GER <= 37.2)).dropna() "
   ]
  },
  {
   "cell_type": "code",
   "execution_count": 7,
   "metadata": {},
   "outputs": [
    {
     "data": {
      "text/plain": [
       "25.355288461538464"
      ]
     },
     "execution_count": 7,
     "metadata": {},
     "output_type": "execute_result"
    }
   ],
   "source": [
    "notas40['NT_GER'].mean()"
   ]
  },
  {
   "cell_type": "markdown",
   "metadata": {},
   "source": [
    "IDDE"
   ]
  },
  {
   "cell_type": "code",
   "execution_count": 68,
   "metadata": {},
   "outputs": [],
   "source": [
    "ies = notas['CO_IES'].drop_duplicates().sort_values()\n",
    "    "
   ]
  },
  {
   "cell_type": "code",
   "execution_count": 96,
   "metadata": {},
   "outputs": [],
   "source": [
    "notas_universidades = notas.groupby('CO_IES').mean()"
   ]
  },
  {
   "cell_type": "code",
   "execution_count": 97,
   "metadata": {},
   "outputs": [
    {
     "data": {
      "text/html": [
       "<div>\n",
       "<style scoped>\n",
       "    .dataframe tbody tr th:only-of-type {\n",
       "        vertical-align: middle;\n",
       "    }\n",
       "\n",
       "    .dataframe tbody tr th {\n",
       "        vertical-align: top;\n",
       "    }\n",
       "\n",
       "    .dataframe thead th {\n",
       "        text-align: right;\n",
       "    }\n",
       "</style>\n",
       "<table border=\"1\" class=\"dataframe\">\n",
       "  <thead>\n",
       "    <tr style=\"text-align: right;\">\n",
       "      <th></th>\n",
       "      <th>NT_GER</th>\n",
       "    </tr>\n",
       "    <tr>\n",
       "      <th>CO_IES</th>\n",
       "      <th></th>\n",
       "    </tr>\n",
       "  </thead>\n",
       "  <tbody>\n",
       "    <tr>\n",
       "      <th>1</th>\n",
       "      <td>48.090672</td>\n",
       "    </tr>\n",
       "    <tr>\n",
       "      <th>2</th>\n",
       "      <td>57.622274</td>\n",
       "    </tr>\n",
       "    <tr>\n",
       "      <th>3</th>\n",
       "      <td>50.038643</td>\n",
       "    </tr>\n",
       "    <tr>\n",
       "      <th>4</th>\n",
       "      <td>47.197063</td>\n",
       "    </tr>\n",
       "    <tr>\n",
       "      <th>5</th>\n",
       "      <td>43.681995</td>\n",
       "    </tr>\n",
       "    <tr>\n",
       "      <th>...</th>\n",
       "      <td>...</td>\n",
       "    </tr>\n",
       "    <tr>\n",
       "      <th>19861</th>\n",
       "      <td>41.288235</td>\n",
       "    </tr>\n",
       "    <tr>\n",
       "      <th>19862</th>\n",
       "      <td>47.061111</td>\n",
       "    </tr>\n",
       "    <tr>\n",
       "      <th>19863</th>\n",
       "      <td>56.258824</td>\n",
       "    </tr>\n",
       "    <tr>\n",
       "      <th>20478</th>\n",
       "      <td>51.810000</td>\n",
       "    </tr>\n",
       "    <tr>\n",
       "      <th>23410</th>\n",
       "      <td>41.516822</td>\n",
       "    </tr>\n",
       "  </tbody>\n",
       "</table>\n",
       "<p>1751 rows × 1 columns</p>\n",
       "</div>"
      ],
      "text/plain": [
       "           NT_GER\n",
       "CO_IES           \n",
       "1       48.090672\n",
       "2       57.622274\n",
       "3       50.038643\n",
       "4       47.197063\n",
       "5       43.681995\n",
       "...           ...\n",
       "19861   41.288235\n",
       "19862   47.061111\n",
       "19863   56.258824\n",
       "20478   51.810000\n",
       "23410   41.516822\n",
       "\n",
       "[1751 rows x 1 columns]"
      ]
     },
     "execution_count": 97,
     "metadata": {},
     "output_type": "execute_result"
    }
   ],
   "source": [
    "notas_universidades"
   ]
  },
  {
   "cell_type": "code",
   "execution_count": 98,
   "metadata": {},
   "outputs": [],
   "source": [
    "notas_universidades.reset_index(inplace=True)"
   ]
  },
  {
   "cell_type": "code",
   "execution_count": 71,
   "metadata": {},
   "outputs": [
    {
     "data": {
      "text/html": [
       "<div>\n",
       "<style scoped>\n",
       "    .dataframe tbody tr th:only-of-type {\n",
       "        vertical-align: middle;\n",
       "    }\n",
       "\n",
       "    .dataframe tbody tr th {\n",
       "        vertical-align: top;\n",
       "    }\n",
       "\n",
       "    .dataframe thead th {\n",
       "        text-align: right;\n",
       "    }\n",
       "</style>\n",
       "<table border=\"1\" class=\"dataframe\">\n",
       "  <thead>\n",
       "    <tr style=\"text-align: right;\">\n",
       "      <th></th>\n",
       "      <th>CO_IES</th>\n",
       "      <th>NT_GER</th>\n",
       "    </tr>\n",
       "  </thead>\n",
       "  <tbody>\n",
       "    <tr>\n",
       "      <th>0</th>\n",
       "      <td>1</td>\n",
       "      <td>48.090672</td>\n",
       "    </tr>\n",
       "    <tr>\n",
       "      <th>1</th>\n",
       "      <td>2</td>\n",
       "      <td>57.622274</td>\n",
       "    </tr>\n",
       "    <tr>\n",
       "      <th>2</th>\n",
       "      <td>3</td>\n",
       "      <td>50.038643</td>\n",
       "    </tr>\n",
       "    <tr>\n",
       "      <th>3</th>\n",
       "      <td>4</td>\n",
       "      <td>47.197063</td>\n",
       "    </tr>\n",
       "    <tr>\n",
       "      <th>4</th>\n",
       "      <td>5</td>\n",
       "      <td>43.681995</td>\n",
       "    </tr>\n",
       "    <tr>\n",
       "      <th>...</th>\n",
       "      <td>...</td>\n",
       "      <td>...</td>\n",
       "    </tr>\n",
       "    <tr>\n",
       "      <th>1746</th>\n",
       "      <td>19861</td>\n",
       "      <td>41.288235</td>\n",
       "    </tr>\n",
       "    <tr>\n",
       "      <th>1747</th>\n",
       "      <td>19862</td>\n",
       "      <td>47.061111</td>\n",
       "    </tr>\n",
       "    <tr>\n",
       "      <th>1748</th>\n",
       "      <td>19863</td>\n",
       "      <td>56.258824</td>\n",
       "    </tr>\n",
       "    <tr>\n",
       "      <th>1749</th>\n",
       "      <td>20478</td>\n",
       "      <td>51.810000</td>\n",
       "    </tr>\n",
       "    <tr>\n",
       "      <th>1750</th>\n",
       "      <td>23410</td>\n",
       "      <td>41.516822</td>\n",
       "    </tr>\n",
       "  </tbody>\n",
       "</table>\n",
       "<p>1751 rows × 2 columns</p>\n",
       "</div>"
      ],
      "text/plain": [
       "      CO_IES     NT_GER\n",
       "0          1  48.090672\n",
       "1          2  57.622274\n",
       "2          3  50.038643\n",
       "3          4  47.197063\n",
       "4          5  43.681995\n",
       "...      ...        ...\n",
       "1746   19861  41.288235\n",
       "1747   19862  47.061111\n",
       "1748   19863  56.258824\n",
       "1749   20478  51.810000\n",
       "1750   23410  41.516822\n",
       "\n",
       "[1751 rows x 2 columns]"
      ]
     },
     "execution_count": 71,
     "metadata": {},
     "output_type": "execute_result"
    }
   ],
   "source": [
    "notas_universidades"
   ]
  },
  {
   "cell_type": "code",
   "execution_count": 74,
   "metadata": {},
   "outputs": [
    {
     "data": {
      "text/html": [
       "<div>\n",
       "<style scoped>\n",
       "    .dataframe tbody tr th:only-of-type {\n",
       "        vertical-align: middle;\n",
       "    }\n",
       "\n",
       "    .dataframe tbody tr th {\n",
       "        vertical-align: top;\n",
       "    }\n",
       "\n",
       "    .dataframe thead th {\n",
       "        text-align: right;\n",
       "    }\n",
       "</style>\n",
       "<table border=\"1\" class=\"dataframe\">\n",
       "  <thead>\n",
       "    <tr style=\"text-align: right;\">\n",
       "      <th></th>\n",
       "      <th>decil40</th>\n",
       "      <th>decil90</th>\n",
       "    </tr>\n",
       "  </thead>\n",
       "  <tbody>\n",
       "    <tr>\n",
       "      <th>0</th>\n",
       "      <td>33.603241</td>\n",
       "      <td>73.131481</td>\n",
       "    </tr>\n",
       "    <tr>\n",
       "      <th>1</th>\n",
       "      <td>43.250580</td>\n",
       "      <td>79.180132</td>\n",
       "    </tr>\n",
       "    <tr>\n",
       "      <th>2</th>\n",
       "      <td>35.067602</td>\n",
       "      <td>74.796939</td>\n",
       "    </tr>\n",
       "    <tr>\n",
       "      <th>3</th>\n",
       "      <td>32.713919</td>\n",
       "      <td>72.244286</td>\n",
       "    </tr>\n",
       "    <tr>\n",
       "      <th>4</th>\n",
       "      <td>29.547590</td>\n",
       "      <td>69.856452</td>\n",
       "    </tr>\n",
       "    <tr>\n",
       "      <th>...</th>\n",
       "      <td>...</td>\n",
       "      <td>...</td>\n",
       "    </tr>\n",
       "    <tr>\n",
       "      <th>1746</th>\n",
       "      <td>30.937500</td>\n",
       "      <td>64.150000</td>\n",
       "    </tr>\n",
       "    <tr>\n",
       "      <th>1747</th>\n",
       "      <td>30.842857</td>\n",
       "      <td>72.050000</td>\n",
       "    </tr>\n",
       "    <tr>\n",
       "      <th>1748</th>\n",
       "      <td>43.342857</td>\n",
       "      <td>74.950000</td>\n",
       "    </tr>\n",
       "    <tr>\n",
       "      <th>1749</th>\n",
       "      <td>40.133333</td>\n",
       "      <td>73.966667</td>\n",
       "    </tr>\n",
       "    <tr>\n",
       "      <th>1750</th>\n",
       "      <td>32.083721</td>\n",
       "      <td>56.266667</td>\n",
       "    </tr>\n",
       "  </tbody>\n",
       "</table>\n",
       "<p>1751 rows × 2 columns</p>\n",
       "</div>"
      ],
      "text/plain": [
       "        decil40    decil90\n",
       "0     33.603241  73.131481\n",
       "1     43.250580  79.180132\n",
       "2     35.067602  74.796939\n",
       "3     32.713919  72.244286\n",
       "4     29.547590  69.856452\n",
       "...         ...        ...\n",
       "1746  30.937500  64.150000\n",
       "1747  30.842857  72.050000\n",
       "1748  43.342857  74.950000\n",
       "1749  40.133333  73.966667\n",
       "1750  32.083721  56.266667\n",
       "\n",
       "[1751 rows x 2 columns]"
      ]
     },
     "execution_count": 74,
     "metadata": {},
     "output_type": "execute_result"
    }
   ],
   "source": [
    "decis = pd.DataFrame(columns=('decil40', 'decil90'))\n",
    "for i in ies:\n",
    "    quartodecil = np.quantile(notas.where(notas.CO_IES == i)['NT_GER'].dropna(), 0.4)\n",
    "    media40 = notas.where((notas.CO_IES == i) & (notas.NT_GER <= quartodecil)).dropna() \n",
    "\n",
    "    nonodecil = np.quantile(notas.where(notas.CO_IES == i)['NT_GER'].dropna(), 0.9)\n",
    "    media90 = notas.where((notas.CO_IES == i) & (notas.NT_GER >= nonodecil)).dropna() \n",
    "    \n",
    "    new_row = {'decil40': media40['NT_GER'].mean(), 'decil90': media90['NT_GER'].mean()}\n",
    "    decis = decis.append(new_row, ignore_index=True)\n",
    "\n",
    "decis"
   ]
  },
  {
   "cell_type": "code",
   "execution_count": 76,
   "metadata": {},
   "outputs": [],
   "source": [
    "decis.reset_index(inplace=True)"
   ]
  },
  {
   "cell_type": "code",
   "execution_count": 99,
   "metadata": {},
   "outputs": [],
   "source": [
    "notas_universidades['D40'] = 0\n",
    "notas_universidades['D90'] = 0"
   ]
  },
  {
   "cell_type": "code",
   "execution_count": 100,
   "metadata": {},
   "outputs": [],
   "source": [
    "notas_universidades['D40'] = decis['decil40']\n",
    "notas_universidades['D90'] = decis['decil90']"
   ]
  },
  {
   "cell_type": "code",
   "execution_count": 101,
   "metadata": {},
   "outputs": [],
   "source": [
    "notas_universidades['IDDE'] = notas_universidades['D90'] / notas_universidades['D40']"
   ]
  },
  {
   "cell_type": "code",
   "execution_count": 111,
   "metadata": {},
   "outputs": [],
   "source": [
    "notas_universidades['Amplitude'] = notas_universidades['D90'] -  notas_universidades['D40']"
   ]
  },
  {
   "cell_type": "code",
   "execution_count": 147,
   "metadata": {},
   "outputs": [
    {
     "data": {
      "text/html": [
       "<div>\n",
       "<style scoped>\n",
       "    .dataframe tbody tr th:only-of-type {\n",
       "        vertical-align: middle;\n",
       "    }\n",
       "\n",
       "    .dataframe tbody tr th {\n",
       "        vertical-align: top;\n",
       "    }\n",
       "\n",
       "    .dataframe thead th {\n",
       "        text-align: right;\n",
       "    }\n",
       "</style>\n",
       "<table border=\"1\" class=\"dataframe\">\n",
       "  <thead>\n",
       "    <tr style=\"text-align: right;\">\n",
       "      <th></th>\n",
       "      <th>CO_IES</th>\n",
       "      <th>NT_GER</th>\n",
       "      <th>D40</th>\n",
       "      <th>D90</th>\n",
       "      <th>IDDE</th>\n",
       "      <th>Amplitude</th>\n",
       "    </tr>\n",
       "  </thead>\n",
       "  <tbody>\n",
       "    <tr>\n",
       "      <th>0</th>\n",
       "      <td>1</td>\n",
       "      <td>48.090672</td>\n",
       "      <td>33.603241</td>\n",
       "      <td>73.131481</td>\n",
       "      <td>2.176322</td>\n",
       "      <td>39.528241</td>\n",
       "    </tr>\n",
       "    <tr>\n",
       "      <th>1</th>\n",
       "      <td>2</td>\n",
       "      <td>57.622274</td>\n",
       "      <td>43.250580</td>\n",
       "      <td>79.180132</td>\n",
       "      <td>1.830730</td>\n",
       "      <td>35.929552</td>\n",
       "    </tr>\n",
       "    <tr>\n",
       "      <th>2</th>\n",
       "      <td>3</td>\n",
       "      <td>50.038643</td>\n",
       "      <td>35.067602</td>\n",
       "      <td>74.796939</td>\n",
       "      <td>2.132936</td>\n",
       "      <td>39.729337</td>\n",
       "    </tr>\n",
       "    <tr>\n",
       "      <th>3</th>\n",
       "      <td>4</td>\n",
       "      <td>47.197063</td>\n",
       "      <td>32.713919</td>\n",
       "      <td>72.244286</td>\n",
       "      <td>2.208365</td>\n",
       "      <td>39.530366</td>\n",
       "    </tr>\n",
       "    <tr>\n",
       "      <th>4</th>\n",
       "      <td>5</td>\n",
       "      <td>43.681995</td>\n",
       "      <td>29.547590</td>\n",
       "      <td>69.856452</td>\n",
       "      <td>2.364201</td>\n",
       "      <td>40.308861</td>\n",
       "    </tr>\n",
       "    <tr>\n",
       "      <th>...</th>\n",
       "      <td>...</td>\n",
       "      <td>...</td>\n",
       "      <td>...</td>\n",
       "      <td>...</td>\n",
       "      <td>...</td>\n",
       "      <td>...</td>\n",
       "    </tr>\n",
       "    <tr>\n",
       "      <th>1746</th>\n",
       "      <td>19861</td>\n",
       "      <td>41.288235</td>\n",
       "      <td>30.937500</td>\n",
       "      <td>64.150000</td>\n",
       "      <td>2.073535</td>\n",
       "      <td>33.212500</td>\n",
       "    </tr>\n",
       "    <tr>\n",
       "      <th>1747</th>\n",
       "      <td>19862</td>\n",
       "      <td>47.061111</td>\n",
       "      <td>30.842857</td>\n",
       "      <td>72.050000</td>\n",
       "      <td>2.336035</td>\n",
       "      <td>41.207143</td>\n",
       "    </tr>\n",
       "    <tr>\n",
       "      <th>1748</th>\n",
       "      <td>19863</td>\n",
       "      <td>56.258824</td>\n",
       "      <td>43.342857</td>\n",
       "      <td>74.950000</td>\n",
       "      <td>1.729235</td>\n",
       "      <td>31.607143</td>\n",
       "    </tr>\n",
       "    <tr>\n",
       "      <th>1749</th>\n",
       "      <td>20478</td>\n",
       "      <td>51.810000</td>\n",
       "      <td>40.133333</td>\n",
       "      <td>73.966667</td>\n",
       "      <td>1.843023</td>\n",
       "      <td>33.833333</td>\n",
       "    </tr>\n",
       "    <tr>\n",
       "      <th>1750</th>\n",
       "      <td>23410</td>\n",
       "      <td>41.516822</td>\n",
       "      <td>32.083721</td>\n",
       "      <td>56.266667</td>\n",
       "      <td>1.753745</td>\n",
       "      <td>24.182946</td>\n",
       "    </tr>\n",
       "  </tbody>\n",
       "</table>\n",
       "<p>1751 rows × 6 columns</p>\n",
       "</div>"
      ],
      "text/plain": [
       "      CO_IES     NT_GER        D40        D90      IDDE  Amplitude\n",
       "0          1  48.090672  33.603241  73.131481  2.176322  39.528241\n",
       "1          2  57.622274  43.250580  79.180132  1.830730  35.929552\n",
       "2          3  50.038643  35.067602  74.796939  2.132936  39.729337\n",
       "3          4  47.197063  32.713919  72.244286  2.208365  39.530366\n",
       "4          5  43.681995  29.547590  69.856452  2.364201  40.308861\n",
       "...      ...        ...        ...        ...       ...        ...\n",
       "1746   19861  41.288235  30.937500  64.150000  2.073535  33.212500\n",
       "1747   19862  47.061111  30.842857  72.050000  2.336035  41.207143\n",
       "1748   19863  56.258824  43.342857  74.950000  1.729235  31.607143\n",
       "1749   20478  51.810000  40.133333  73.966667  1.843023  33.833333\n",
       "1750   23410  41.516822  32.083721  56.266667  1.753745  24.182946\n",
       "\n",
       "[1751 rows x 6 columns]"
      ]
     },
     "execution_count": 147,
     "metadata": {},
     "output_type": "execute_result"
    }
   ],
   "source": [
    "notas_universidades"
   ]
  },
  {
   "cell_type": "markdown",
   "metadata": {},
   "source": [
    "## Gráficos"
   ]
  },
  {
   "cell_type": "markdown",
   "metadata": {},
   "source": [
    "### IDDE"
   ]
  },
  {
   "cell_type": "code",
   "execution_count": 242,
   "metadata": {},
   "outputs": [
    {
     "data": {
      "text/plain": [
       "Text(0.02, 0.65, '$\\\\mu= 2.19,\\\\ Med=2.21,\\\\ \\\\sigma=0.29$')"
      ]
     },
     "execution_count": 242,
     "metadata": {},
     "output_type": "execute_result"
    },
    {
     "data": {
      "image/png": "[encoded data removed]",
      "text/plain": [
       "<Figure size 1152x576 with 1 Axes>"
      ]
     },
     "metadata": {},
     "output_type": "display_data"
    }
   ],
   "source": [
    "media_idde = notas_universidades['IDDE'].mean()\n",
    "mediana_idde = notas_universidades['IDDE'].median()\n",
    "desvio_idde = np.std(notas_universidades['IDDE'])\n",
    "\n",
    "plt.style.use('ggplot')\n",
    "fig, ax = plt.subplots()\n",
    "ax.hist(notas_universidades['IDDE'])\n",
    "ax.set_title('Gráfico 1: Distribuição do Índice de Desigualdade Educacional por Universidade', size=16)\n",
    "ax.set_xlabel('Nota', size=14)\n",
    "ax.set_ylabel('Quantidade de IES', size=14)\n",
    "ax.text(0.02,\n",
    "    0.65, \n",
    "    f'$\\mu= {media_idde:.2f},\\ Med={mediana_idde:.2f},\\ \\sigma={desvio_idde:.2f}$', \n",
    "    transform=ax.transAxes, \n",
    "    fontsize=10, \n",
    "    bbox={'boxstyle':'round','facecolor':'white','alpha':1})\n"
   ]
  },
  {
   "cell_type": "markdown",
   "metadata": {},
   "source": [
    "Média Geral"
   ]
  },
  {
   "cell_type": "code",
   "execution_count": 151,
   "metadata": {},
   "outputs": [
    {
     "data": {
      "text/plain": [
       "Text(0.02, 0.65, '$\\\\mu= 40.64,\\\\ Med=40.01,\\\\ \\\\sigma=6.42$')"
      ]
     },
     "execution_count": 151,
     "metadata": {},
     "output_type": "execute_result"
    },
    {
     "data": {
      "image/png": "[encoded data removed]",
      "text/plain": [
       "<Figure size 1152x576 with 1 Axes>"
      ]
     },
     "metadata": {},
     "output_type": "display_data"
    }
   ],
   "source": [
    "media_ntger = notas_universidades['NT_GER'].mean()\n",
    "mediana_ntger = notas_universidades['NT_GER'].median()\n",
    "desvio_ntger = np.std(notas_universidades['NT_GER'])\n",
    "\n",
    "plt.style.use('ggplot')\n",
    "fig, ax = plt.subplots()\n",
    "ax.hist(notas_universidades['NT_GER'], color='royalblue')\n",
    "ax.set_title('Distribuição da Média Geral por Universidade', size=16)\n",
    "ax.set_xlabel('Nota', size=14)\n",
    "ax.set_ylabel('Quantidade de IES', size=14)\n",
    "ax.text(0.02,\n",
    "    0.65, \n",
    "    f'$\\mu= {media_ntger:.2f},\\ Med={mediana_ntger:.2f},\\ \\sigma={desvio_ntger:.2f}$', \n",
    "    transform=ax.transAxes, \n",
    "    fontsize=10, \n",
    "    bbox={'boxstyle':'round','facecolor':'white','alpha':1})\n"
   ]
  },
  {
   "cell_type": "markdown",
   "metadata": {},
   "source": [
    "### Amplitude"
   ]
  },
  {
   "cell_type": "code",
   "execution_count": 243,
   "metadata": {},
   "outputs": [
    {
     "data": {
      "text/plain": [
       "Text(0.02, 0.65, '$\\\\mu= 33.18,\\\\ Med=34.20,\\\\ \\\\sigma=5.61$')"
      ]
     },
     "execution_count": 243,
     "metadata": {},
     "output_type": "execute_result"
    },
    {
     "data": {
      "image/png": "[encoded data removed]",
      "text/plain": [
       "<Figure size 1152x576 with 1 Axes>"
      ]
     },
     "metadata": {},
     "output_type": "display_data"
    }
   ],
   "source": [
    "media_amp = notas_universidades['Amplitude'].mean()\n",
    "mediana_amp = notas_universidades['Amplitude'].median()\n",
    "desvio_amp = np.std(notas_universidades['Amplitude'])\n",
    "\n",
    "plt.style.use('ggplot')\n",
    "fig, ax = plt.subplots()\n",
    "ax.hist(notas_universidades['Amplitude'], color='limegreen')\n",
    "ax.set_title('Gáfico 3: Distribução da Amplitude da Média do Quarto e Nono Decil por Universidade', size=16)\n",
    "ax.set_xlabel('Amplitude', size=14)\n",
    "ax.set_ylabel('Quantidade de IES', size=14)\n",
    "ax.text(0.02,\n",
    "    0.65, \n",
    "    f'$\\mu= {media_amp:.2f},\\ Med={mediana_amp:.2f},\\ \\sigma={desvio_amp:.2f}$', \n",
    "    transform=ax.transAxes, \n",
    "    fontsize=10, \n",
    "    bbox={'boxstyle':'round','facecolor':'white','alpha':1})\n"
   ]
  },
  {
   "cell_type": "code",
   "execution_count": 192,
   "metadata": {},
   "outputs": [],
   "source": [
    "ies_renda = enade.filter(['CO_IES', 'CO_CATEGAD','NT_GER']).dropna()"
   ]
  },
  {
   "cell_type": "code",
   "execution_count": 193,
   "metadata": {},
   "outputs": [],
   "source": [
    "ies_categad = ies_renda.drop_duplicates('CO_IES')"
   ]
  },
  {
   "cell_type": "code",
   "execution_count": 194,
   "metadata": {},
   "outputs": [],
   "source": [
    "ies_categad = ies_categad.filter(['CO_IES', 'CO_CATEGAD'])"
   ]
  },
  {
   "cell_type": "code",
   "execution_count": 195,
   "metadata": {},
   "outputs": [],
   "source": [
    "ies_categad.sort_values('CO_IES', inplace=True)"
   ]
  },
  {
   "cell_type": "code",
   "execution_count": 196,
   "metadata": {},
   "outputs": [],
   "source": [
    "ies_categad = pd.merge(ies_categad, notas_universidades, how='right')"
   ]
  },
  {
   "cell_type": "code",
   "execution_count": 209,
   "metadata": {},
   "outputs": [],
   "source": [
    "ies_inse = pd.read_excel('ies_inse.xlsx')"
   ]
  },
  {
   "cell_type": "code",
   "execution_count": 211,
   "metadata": {},
   "outputs": [],
   "source": [
    "ies_inse = ies_inse.filter(['CO_IES','IDSE'])"
   ]
  },
  {
   "cell_type": "code",
   "execution_count": 214,
   "metadata": {},
   "outputs": [
    {
     "data": {
      "text/html": [
       "<div>\n",
       "<style scoped>\n",
       "    .dataframe tbody tr th:only-of-type {\n",
       "        vertical-align: middle;\n",
       "    }\n",
       "\n",
       "    .dataframe tbody tr th {\n",
       "        vertical-align: top;\n",
       "    }\n",
       "\n",
       "    .dataframe thead th {\n",
       "        text-align: right;\n",
       "    }\n",
       "</style>\n",
       "<table border=\"1\" class=\"dataframe\">\n",
       "  <thead>\n",
       "    <tr style=\"text-align: right;\">\n",
       "      <th></th>\n",
       "      <th>CO_IES</th>\n",
       "      <th>CO_CATEGAD</th>\n",
       "      <th>NT_GER</th>\n",
       "      <th>D40</th>\n",
       "      <th>D90</th>\n",
       "      <th>IDDE</th>\n",
       "      <th>Amplitude</th>\n",
       "    </tr>\n",
       "  </thead>\n",
       "  <tbody>\n",
       "    <tr>\n",
       "      <th>0</th>\n",
       "      <td>1</td>\n",
       "      <td>10002</td>\n",
       "      <td>48.090672</td>\n",
       "      <td>33.603241</td>\n",
       "      <td>73.131481</td>\n",
       "      <td>2.176322</td>\n",
       "      <td>39.528241</td>\n",
       "    </tr>\n",
       "    <tr>\n",
       "      <th>1</th>\n",
       "      <td>2</td>\n",
       "      <td>10002</td>\n",
       "      <td>57.622274</td>\n",
       "      <td>43.250580</td>\n",
       "      <td>79.180132</td>\n",
       "      <td>1.830730</td>\n",
       "      <td>35.929552</td>\n",
       "    </tr>\n",
       "    <tr>\n",
       "      <th>2</th>\n",
       "      <td>3</td>\n",
       "      <td>10002</td>\n",
       "      <td>50.038643</td>\n",
       "      <td>35.067602</td>\n",
       "      <td>74.796939</td>\n",
       "      <td>2.132936</td>\n",
       "      <td>39.729337</td>\n",
       "    </tr>\n",
       "    <tr>\n",
       "      <th>3</th>\n",
       "      <td>4</td>\n",
       "      <td>10002</td>\n",
       "      <td>47.197063</td>\n",
       "      <td>32.713919</td>\n",
       "      <td>72.244286</td>\n",
       "      <td>2.208365</td>\n",
       "      <td>39.530366</td>\n",
       "    </tr>\n",
       "    <tr>\n",
       "      <th>4</th>\n",
       "      <td>5</td>\n",
       "      <td>10002</td>\n",
       "      <td>43.681995</td>\n",
       "      <td>29.547590</td>\n",
       "      <td>69.856452</td>\n",
       "      <td>2.364201</td>\n",
       "      <td>40.308861</td>\n",
       "    </tr>\n",
       "    <tr>\n",
       "      <th>...</th>\n",
       "      <td>...</td>\n",
       "      <td>...</td>\n",
       "      <td>...</td>\n",
       "      <td>...</td>\n",
       "      <td>...</td>\n",
       "      <td>...</td>\n",
       "      <td>...</td>\n",
       "    </tr>\n",
       "    <tr>\n",
       "      <th>1746</th>\n",
       "      <td>19861</td>\n",
       "      <td>10008</td>\n",
       "      <td>41.288235</td>\n",
       "      <td>30.937500</td>\n",
       "      <td>64.150000</td>\n",
       "      <td>2.073535</td>\n",
       "      <td>33.212500</td>\n",
       "    </tr>\n",
       "    <tr>\n",
       "      <th>1747</th>\n",
       "      <td>19862</td>\n",
       "      <td>10001</td>\n",
       "      <td>47.061111</td>\n",
       "      <td>30.842857</td>\n",
       "      <td>72.050000</td>\n",
       "      <td>2.336035</td>\n",
       "      <td>41.207143</td>\n",
       "    </tr>\n",
       "    <tr>\n",
       "      <th>1748</th>\n",
       "      <td>19863</td>\n",
       "      <td>10001</td>\n",
       "      <td>56.258824</td>\n",
       "      <td>43.342857</td>\n",
       "      <td>74.950000</td>\n",
       "      <td>1.729235</td>\n",
       "      <td>31.607143</td>\n",
       "    </tr>\n",
       "    <tr>\n",
       "      <th>1749</th>\n",
       "      <td>20478</td>\n",
       "      <td>10001</td>\n",
       "      <td>51.810000</td>\n",
       "      <td>40.133333</td>\n",
       "      <td>73.966667</td>\n",
       "      <td>1.843023</td>\n",
       "      <td>33.833333</td>\n",
       "    </tr>\n",
       "    <tr>\n",
       "      <th>1750</th>\n",
       "      <td>23410</td>\n",
       "      <td>115</td>\n",
       "      <td>41.516822</td>\n",
       "      <td>32.083721</td>\n",
       "      <td>56.266667</td>\n",
       "      <td>1.753745</td>\n",
       "      <td>24.182946</td>\n",
       "    </tr>\n",
       "  </tbody>\n",
       "</table>\n",
       "<p>1751 rows × 7 columns</p>\n",
       "</div>"
      ],
      "text/plain": [
       "      CO_IES  CO_CATEGAD     NT_GER        D40        D90      IDDE  Amplitude\n",
       "0          1       10002  48.090672  33.603241  73.131481  2.176322  39.528241\n",
       "1          2       10002  57.622274  43.250580  79.180132  1.830730  35.929552\n",
       "2          3       10002  50.038643  35.067602  74.796939  2.132936  39.729337\n",
       "3          4       10002  47.197063  32.713919  72.244286  2.208365  39.530366\n",
       "4          5       10002  43.681995  29.547590  69.856452  2.364201  40.308861\n",
       "...      ...         ...        ...        ...        ...       ...        ...\n",
       "1746   19861       10008  41.288235  30.937500  64.150000  2.073535  33.212500\n",
       "1747   19862       10001  47.061111  30.842857  72.050000  2.336035  41.207143\n",
       "1748   19863       10001  56.258824  43.342857  74.950000  1.729235  31.607143\n",
       "1749   20478       10001  51.810000  40.133333  73.966667  1.843023  33.833333\n",
       "1750   23410         115  41.516822  32.083721  56.266667  1.753745  24.182946\n",
       "\n",
       "[1751 rows x 7 columns]"
      ]
     },
     "execution_count": 214,
     "metadata": {},
     "output_type": "execute_result"
    }
   ],
   "source": [
    "ies_categad"
   ]
  },
  {
   "cell_type": "code",
   "execution_count": 215,
   "metadata": {},
   "outputs": [],
   "source": [
    "ies_idde_inse = pd.merge(ies_categad, ies_inse, how='right')"
   ]
  },
  {
   "cell_type": "code",
   "execution_count": 245,
   "metadata": {},
   "outputs": [
    {
     "name": "stderr",
     "output_type": "stream",
     "text": [
      "C:\\Users\\mathe\\AppData\\Local\\Temp\\ipykernel_4796\\3146975411.py:6: UserWarning: color is redundantly defined by the 'color' keyword argument and the fmt string \"r--\" (-> color='r'). The keyword argument will take precedence.\n",
      "  fig.plot(ies_idde_inse['IDSE'],p(ies_idde_inse['IDSE']),\"r--\", color='black')\n"
     ]
    },
    {
     "data": {
      "text/plain": [
       "Text(0, 0.5, 'IDDE')"
      ]
     },
     "execution_count": 245,
     "metadata": {},
     "output_type": "execute_result"
    },
    {
     "data": {
      "image/png": "[encoded data removed]",
      "text/plain": [
       "<Figure size 1152x576 with 1 Axes>"
      ]
     },
     "metadata": {},
     "output_type": "display_data"
    }
   ],
   "source": [
    "ax, fig = plt.subplots()\n",
    "fig.scatter(ies_idde_inse['IDSE'], ies_idde_inse['IDDE'])\n",
    "\n",
    "z = np.polyfit(ies_idde_inse['IDSE'], ies_idde_inse['IDDE'], 1)\n",
    "p = np.poly1d(z)\n",
    "fig.plot(ies_idde_inse['IDSE'],p(ies_idde_inse['IDSE']),\"r--\", color='black')\n",
    "fig.set_title('Gráfico 4: Gráfico de Dipersão do Índice de Desenvolvimento Econonômico e Índice de Desigualdade Educacional')\n",
    "fig.set_xlabel('IDSE')\n",
    "fig.set_ylabel('IDDE')"
   ]
  }
 ],
 "metadata": {
  "interpreter": {
   "hash": "08820d80d9da2e8b8362dd7eb175f13515edfba605b5089051618ffd8d1308cc"
  },
  "kernelspec": {
   "display_name": "Python 3.10.1 64-bit",
   "language": "python",
   "name": "python3"
  },
  "language_info": {
   "codemirror_mode": {
    "name": "ipython",
    "version": 3
   },
   "file_extension": ".py",
   "mimetype": "text/x-python",
   "name": "python",
   "nbconvert_exporter": "python",
   "pygments_lexer": "ipython3",
   "version": "3.10.1"
  },
  "orig_nbformat": 4
 },
 "nbformat": 4,
 "nbformat_minor": 2
}
