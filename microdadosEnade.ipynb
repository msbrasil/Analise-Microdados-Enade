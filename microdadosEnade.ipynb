{
 "cells": [
  {
   "cell_type": "markdown",
   "metadata": {},
   "source": [
    "# Análise de Microdados Enade 2018"
   ]
  },
  {
   "cell_type": "markdown",
   "metadata": {},
   "source": [
    "### Pacotes utilizados"
   ]
  },
  {
   "cell_type": "code",
   "execution_count": 2,
   "metadata": {},
   "outputs": [],
   "source": [
    "import pandas as pd # pacote para manipulação da base"
   ]
  },
  {
   "cell_type": "markdown",
   "metadata": {},
   "source": [
    "### Importação dos dados"
   ]
  },
  {
   "cell_type": "code",
   "execution_count": 3,
   "metadata": {},
   "outputs": [],
   "source": [
    "path = 'D:/UFPR/2º Semestre 2021/Estatística Econômica e Introdução à Econometria/1. Relatório Enade/2018/3.DADOS/microdados_enade_2018.txt'\n",
    "microdados_enade = pd.read_table(path, sep=';', decimal=',')"
   ]
  },
  {
   "cell_type": "code",
   "execution_count": 4,
   "metadata": {},
   "outputs": [
    {
     "data": {
      "text/plain": [
       "(548127, 137)"
      ]
     },
     "execution_count": 4,
     "metadata": {},
     "output_type": "execute_result"
    }
   ],
   "source": [
    "microdados_enade.shape #dimensões do dataframe"
   ]
  },
  {
   "cell_type": "markdown",
   "metadata": {},
   "source": [
    "### Analisando a Base"
   ]
  },
  {
   "cell_type": "markdown",
   "metadata": {},
   "source": [
    "1) Quantos Alunos e IES(Instituições de Ensino Superior) são representados?"
   ]
  },
  {
   "cell_type": "code",
   "execution_count": 5,
   "metadata": {},
   "outputs": [],
   "source": [
    "coluna_IES = microdados_enade.filter(['CO_IES']) #Atribuição da coluna IES em uma variável "
   ]
  },
  {
   "cell_type": "code",
   "execution_count": 6,
   "metadata": {},
   "outputs": [
    {
     "data": {
      "text/plain": [
       "1762"
      ]
     },
     "execution_count": 6,
     "metadata": {},
     "output_type": "execute_result"
    }
   ],
   "source": [
    "coluna_IES['CO_IES'].nunique() # Quantidade de IES através de contagem de valores únicos"
   ]
  },
  {
   "cell_type": "code",
   "execution_count": 7,
   "metadata": {},
   "outputs": [],
   "source": [
    "coluna_inscricao = microdados_enade.filter(['TP_INCRICAO'])"
   ]
  },
  {
   "cell_type": "code",
   "execution_count": 8,
   "metadata": {},
   "outputs": [
    {
     "data": {
      "text/plain": [
       "548127"
      ]
     },
     "execution_count": 8,
     "metadata": {},
     "output_type": "execute_result"
    }
   ],
   "source": [
    "len(coluna_inscricao) #Quantidade de alunos representados na pesquisa do Enade"
   ]
  },
  {
   "cell_type": "markdown",
   "metadata": {},
   "source": [
    "2) Quantos cursos de economia existem no país?"
   ]
  },
  {
   "cell_type": "code",
   "execution_count": 9,
   "metadata": {},
   "outputs": [],
   "source": [
    "colunas_grupo_curso = microdados_enade.filter(['CO_GRUPO', 'CO_CURSO']) #seleciono somente a coluna do grupo e código do curso."
   ]
  },
  {
   "cell_type": "code",
   "execution_count": 10,
   "metadata": {},
   "outputs": [
    {
     "data": {
      "text/plain": [
       "CO_GRUPO      1\n",
       "CO_CURSO    195\n",
       "dtype: int64"
      ]
     },
     "execution_count": 10,
     "metadata": {},
     "output_type": "execute_result"
    }
   ],
   "source": [
    "colunas_grupo_curso[colunas_grupo_curso['CO_GRUPO'] == 13].nunique() #Quantidade de cursos de economia no Brasil (grupo 13)"
   ]
  },
  {
   "cell_type": "markdown",
   "metadata": {},
   "source": [
    "3) Quantos são públicos e quantos são privados?"
   ]
  },
  {
   "cell_type": "code",
   "execution_count": 11,
   "metadata": {},
   "outputs": [],
   "source": [
    "colunas_grupo_curso_categoria = microdados_enade.filter(['CO_GRUPO', 'CO_CURSO', 'CO_CATEGAD']).drop_duplicates()"
   ]
  },
  {
   "cell_type": "code",
   "execution_count": 12,
   "metadata": {},
   "outputs": [
    {
     "data": {
      "text/html": [
       "<div>\n",
       "<style scoped>\n",
       "    .dataframe tbody tr th:only-of-type {\n",
       "        vertical-align: middle;\n",
       "    }\n",
       "\n",
       "    .dataframe tbody tr th {\n",
       "        vertical-align: top;\n",
       "    }\n",
       "\n",
       "    .dataframe thead th {\n",
       "        text-align: right;\n",
       "    }\n",
       "</style>\n",
       "<table border=\"1\" class=\"dataframe\">\n",
       "  <thead>\n",
       "    <tr style=\"text-align: right;\">\n",
       "      <th></th>\n",
       "      <th>CO_GRUPO</th>\n",
       "      <th>CO_CURSO</th>\n",
       "    </tr>\n",
       "    <tr>\n",
       "      <th>CO_CATEGAD</th>\n",
       "      <th></th>\n",
       "      <th></th>\n",
       "    </tr>\n",
       "  </thead>\n",
       "  <tbody>\n",
       "    <tr>\n",
       "      <th>93.0</th>\n",
       "      <td>9</td>\n",
       "      <td>9</td>\n",
       "    </tr>\n",
       "    <tr>\n",
       "      <th>115.0</th>\n",
       "      <td>17</td>\n",
       "      <td>17</td>\n",
       "    </tr>\n",
       "    <tr>\n",
       "      <th>116.0</th>\n",
       "      <td>3</td>\n",
       "      <td>3</td>\n",
       "    </tr>\n",
       "    <tr>\n",
       "      <th>118.0</th>\n",
       "      <td>9</td>\n",
       "      <td>9</td>\n",
       "    </tr>\n",
       "    <tr>\n",
       "      <th>120.0</th>\n",
       "      <td>1</td>\n",
       "      <td>1</td>\n",
       "    </tr>\n",
       "    <tr>\n",
       "      <th>121.0</th>\n",
       "      <td>5</td>\n",
       "      <td>5</td>\n",
       "    </tr>\n",
       "    <tr>\n",
       "      <th>10001.0</th>\n",
       "      <td>15</td>\n",
       "      <td>15</td>\n",
       "    </tr>\n",
       "    <tr>\n",
       "      <th>10002.0</th>\n",
       "      <td>53</td>\n",
       "      <td>53</td>\n",
       "    </tr>\n",
       "    <tr>\n",
       "      <th>10003.0</th>\n",
       "      <td>3</td>\n",
       "      <td>3</td>\n",
       "    </tr>\n",
       "    <tr>\n",
       "      <th>10005.0</th>\n",
       "      <td>29</td>\n",
       "      <td>29</td>\n",
       "    </tr>\n",
       "    <tr>\n",
       "      <th>10007.0</th>\n",
       "      <td>6</td>\n",
       "      <td>6</td>\n",
       "    </tr>\n",
       "    <tr>\n",
       "      <th>10008.0</th>\n",
       "      <td>43</td>\n",
       "      <td>43</td>\n",
       "    </tr>\n",
       "    <tr>\n",
       "      <th>10009.0</th>\n",
       "      <td>1</td>\n",
       "      <td>1</td>\n",
       "    </tr>\n",
       "    <tr>\n",
       "      <th>17634.0</th>\n",
       "      <td>1</td>\n",
       "      <td>1</td>\n",
       "    </tr>\n",
       "  </tbody>\n",
       "</table>\n",
       "</div>"
      ],
      "text/plain": [
       "            CO_GRUPO  CO_CURSO\n",
       "CO_CATEGAD                    \n",
       "93.0               9         9\n",
       "115.0             17        17\n",
       "116.0              3         3\n",
       "118.0              9         9\n",
       "120.0              1         1\n",
       "121.0              5         5\n",
       "10001.0           15        15\n",
       "10002.0           53        53\n",
       "10003.0            3         3\n",
       "10005.0           29        29\n",
       "10007.0            6         6\n",
       "10008.0           43        43\n",
       "10009.0            1         1\n",
       "17634.0            1         1"
      ]
     },
     "execution_count": 12,
     "metadata": {},
     "output_type": "execute_result"
    }
   ],
   "source": [
    "colunas_grupo_curso_categoria.where(colunas_grupo_curso_categoria.CO_GRUPO == 13).groupby(['CO_CATEGAD']).count()\n",
    "#Quantidade cursos de economia por categoria de ensino"
   ]
  },
  {
   "cell_type": "markdown",
   "metadata": {},
   "source": [
    "3) Quantos são diurnos, noturnos e integrais?"
   ]
  },
  {
   "cell_type": "code",
   "execution_count": 13,
   "metadata": {},
   "outputs": [],
   "source": [
    "colunas_grupo_curso_turno = microdados_enade.filter(['CO_GRUPO', 'CO_CURSO','CO_IES', 'CO_TURNO_GRADUACAO']).drop_duplicates()"
   ]
  },
  {
   "cell_type": "code",
   "execution_count": 14,
   "metadata": {},
   "outputs": [
    {
     "data": {
      "text/html": [
       "<div>\n",
       "<style scoped>\n",
       "    .dataframe tbody tr th:only-of-type {\n",
       "        vertical-align: middle;\n",
       "    }\n",
       "\n",
       "    .dataframe tbody tr th {\n",
       "        vertical-align: top;\n",
       "    }\n",
       "\n",
       "    .dataframe thead th {\n",
       "        text-align: right;\n",
       "    }\n",
       "</style>\n",
       "<table border=\"1\" class=\"dataframe\">\n",
       "  <thead>\n",
       "    <tr style=\"text-align: right;\">\n",
       "      <th></th>\n",
       "      <th>CO_GRUPO</th>\n",
       "      <th>CO_CURSO</th>\n",
       "      <th>CO_IES</th>\n",
       "    </tr>\n",
       "    <tr>\n",
       "      <th>CO_TURNO_GRADUACAO</th>\n",
       "      <th></th>\n",
       "      <th></th>\n",
       "      <th></th>\n",
       "    </tr>\n",
       "  </thead>\n",
       "  <tbody>\n",
       "    <tr>\n",
       "      <th>1.0</th>\n",
       "      <td>43</td>\n",
       "      <td>43</td>\n",
       "      <td>43</td>\n",
       "    </tr>\n",
       "    <tr>\n",
       "      <th>2.0</th>\n",
       "      <td>8</td>\n",
       "      <td>8</td>\n",
       "      <td>8</td>\n",
       "    </tr>\n",
       "    <tr>\n",
       "      <th>3.0</th>\n",
       "      <td>37</td>\n",
       "      <td>37</td>\n",
       "      <td>37</td>\n",
       "    </tr>\n",
       "    <tr>\n",
       "      <th>4.0</th>\n",
       "      <td>164</td>\n",
       "      <td>164</td>\n",
       "      <td>164</td>\n",
       "    </tr>\n",
       "  </tbody>\n",
       "</table>\n",
       "</div>"
      ],
      "text/plain": [
       "                    CO_GRUPO  CO_CURSO  CO_IES\n",
       "CO_TURNO_GRADUACAO                            \n",
       "1.0                       43        43      43\n",
       "2.0                        8         8       8\n",
       "3.0                       37        37      37\n",
       "4.0                      164       164     164"
      ]
     },
     "execution_count": 14,
     "metadata": {},
     "output_type": "execute_result"
    }
   ],
   "source": [
    "colunas_grupo_curso_turno.where(colunas_grupo_curso_turno.CO_GRUPO == 13).groupby(['CO_TURNO_GRADUACAO']).count()\n",
    "#quantidade de cursos de economia por turno (informação errada)"
   ]
  },
  {
   "cell_type": "markdown",
   "metadata": {},
   "source": [
    "4) Quantos são presenciais e quantos são à distância?"
   ]
  },
  {
   "cell_type": "code",
   "execution_count": 15,
   "metadata": {},
   "outputs": [],
   "source": [
    "colunas_grupo_curso_modalidade = microdados_enade.filter(['CO_GRUPO', 'CO_CURSO', 'CO_MODALIDADE']).drop_duplicates()"
   ]
  },
  {
   "cell_type": "code",
   "execution_count": 16,
   "metadata": {},
   "outputs": [
    {
     "data": {
      "text/html": [
       "<div>\n",
       "<style scoped>\n",
       "    .dataframe tbody tr th:only-of-type {\n",
       "        vertical-align: middle;\n",
       "    }\n",
       "\n",
       "    .dataframe tbody tr th {\n",
       "        vertical-align: top;\n",
       "    }\n",
       "\n",
       "    .dataframe thead th {\n",
       "        text-align: right;\n",
       "    }\n",
       "</style>\n",
       "<table border=\"1\" class=\"dataframe\">\n",
       "  <thead>\n",
       "    <tr style=\"text-align: right;\">\n",
       "      <th></th>\n",
       "      <th>CO_GRUPO</th>\n",
       "      <th>CO_CURSO</th>\n",
       "    </tr>\n",
       "    <tr>\n",
       "      <th>CO_MODALIDADE</th>\n",
       "      <th></th>\n",
       "      <th></th>\n",
       "    </tr>\n",
       "  </thead>\n",
       "  <tbody>\n",
       "    <tr>\n",
       "      <th>1.0</th>\n",
       "      <td>187</td>\n",
       "      <td>187</td>\n",
       "    </tr>\n",
       "    <tr>\n",
       "      <th>2.0</th>\n",
       "      <td>8</td>\n",
       "      <td>8</td>\n",
       "    </tr>\n",
       "  </tbody>\n",
       "</table>\n",
       "</div>"
      ],
      "text/plain": [
       "               CO_GRUPO  CO_CURSO\n",
       "CO_MODALIDADE                    \n",
       "1.0                 187       187\n",
       "2.0                   8         8"
      ]
     },
     "execution_count": 16,
     "metadata": {},
     "output_type": "execute_result"
    }
   ],
   "source": [
    "colunas_grupo_curso_modalidade.where(colunas_grupo_curso_modalidade.CO_GRUPO == 13).groupby(['CO_MODALIDADE']).count()\n",
    "#Quantidade de cursos de economia por modalidade de ensino"
   ]
  },
  {
   "cell_type": "markdown",
   "metadata": {},
   "source": [
    "X) Nota média geral dos cursos de economia no Brasil"
   ]
  },
  {
   "cell_type": "code",
   "execution_count": 17,
   "metadata": {},
   "outputs": [],
   "source": [
    "colunas_grupo_curso_nota = microdados_enade.filter(['CO_GRUPO', 'CO_CURSO', 'NT_GER', 'CO_CATEGAD','CO_IES'])"
   ]
  },
  {
   "cell_type": "code",
   "execution_count": 18,
   "metadata": {},
   "outputs": [],
   "source": [
    "media_geral_economia = colunas_grupo_curso_nota.where(colunas_grupo_curso_nota.CO_GRUPO == 13).groupby(['CO_CURSO']).mean()"
   ]
  },
  {
   "cell_type": "markdown",
   "metadata": {},
   "source": [
    "X) Mediana da nota geral dos cursos de economia no Brasil"
   ]
  },
  {
   "cell_type": "code",
   "execution_count": 37,
   "metadata": {},
   "outputs": [
    {
     "data": {
      "text/html": [
       "<div>\n",
       "<style scoped>\n",
       "    .dataframe tbody tr th:only-of-type {\n",
       "        vertical-align: middle;\n",
       "    }\n",
       "\n",
       "    .dataframe tbody tr th {\n",
       "        vertical-align: top;\n",
       "    }\n",
       "\n",
       "    .dataframe thead th {\n",
       "        text-align: right;\n",
       "    }\n",
       "</style>\n",
       "<table border=\"1\" class=\"dataframe\">\n",
       "  <thead>\n",
       "    <tr style=\"text-align: right;\">\n",
       "      <th></th>\n",
       "      <th>CO_CURSO</th>\n",
       "      <th>NT_GER</th>\n",
       "      <th>CO_CATEGAD</th>\n",
       "      <th>CO_IES</th>\n",
       "    </tr>\n",
       "    <tr>\n",
       "      <th>CO_GRUPO</th>\n",
       "      <th></th>\n",
       "      <th></th>\n",
       "      <th></th>\n",
       "      <th></th>\n",
       "    </tr>\n",
       "  </thead>\n",
       "  <tbody>\n",
       "    <tr>\n",
       "      <th>13.0</th>\n",
       "      <td>13970.0</td>\n",
       "      <td>37.2</td>\n",
       "      <td>10002.0</td>\n",
       "      <td>572.0</td>\n",
       "    </tr>\n",
       "  </tbody>\n",
       "</table>\n",
       "</div>"
      ],
      "text/plain": [
       "          CO_CURSO  NT_GER  CO_CATEGAD  CO_IES\n",
       "CO_GRUPO                                      \n",
       "13.0       13970.0    37.2     10002.0   572.0"
      ]
     },
     "execution_count": 37,
     "metadata": {},
     "output_type": "execute_result"
    }
   ],
   "source": [
    "colunas_grupo_curso_nota.where(colunas_grupo_curso_nota.CO_GRUPO == 13).groupby(['CO_GRUPO']).median() #mediana dos cursos de economia"
   ]
  },
  {
   "cell_type": "markdown",
   "metadata": {},
   "source": [
    "X) Histograma da nota geral dos cursos de economia no Brasil"
   ]
  },
  {
   "cell_type": "code",
   "execution_count": 40,
   "metadata": {},
   "outputs": [
    {
     "data": {
      "text/plain": [
       "<AxesSubplot:>"
      ]
     },
     "execution_count": 40,
     "metadata": {},
     "output_type": "execute_result"
    },
    {
     "data": {
      "image/png": "[encoded data removed]",
      "text/plain": [
       "<Figure size 432x288 with 1 Axes>"
      ]
     },
     "metadata": {
      "needs_background": "light"
     },
     "output_type": "display_data"
    }
   ],
   "source": [
    "#colunas_grupo_curso_nota['NT_GER'].hist(bins=20)\n",
    "colunas_grupo_curso_nota.where(colunas_grupo_curso_nota.CO_GRUPO == 13)['NT_GER'].hist()"
   ]
  },
  {
   "cell_type": "markdown",
   "metadata": {},
   "source": [
    "X) Nota média do curso de economia nas universidades federais"
   ]
  },
  {
   "cell_type": "code",
   "execution_count": 22,
   "metadata": {},
   "outputs": [
    {
     "data": {
      "text/html": [
       "<div>\n",
       "<style scoped>\n",
       "    .dataframe tbody tr th:only-of-type {\n",
       "        vertical-align: middle;\n",
       "    }\n",
       "\n",
       "    .dataframe tbody tr th {\n",
       "        vertical-align: top;\n",
       "    }\n",
       "\n",
       "    .dataframe thead th {\n",
       "        text-align: right;\n",
       "    }\n",
       "</style>\n",
       "<table border=\"1\" class=\"dataframe\">\n",
       "  <thead>\n",
       "    <tr style=\"text-align: right;\">\n",
       "      <th></th>\n",
       "      <th></th>\n",
       "      <th>CO_CURSO</th>\n",
       "      <th>NT_GER</th>\n",
       "      <th>CO_IES</th>\n",
       "    </tr>\n",
       "    <tr>\n",
       "      <th>CO_CATEGAD</th>\n",
       "      <th>CO_GRUPO</th>\n",
       "      <th></th>\n",
       "      <th></th>\n",
       "      <th></th>\n",
       "    </tr>\n",
       "  </thead>\n",
       "  <tbody>\n",
       "    <tr>\n",
       "      <th>93.0</th>\n",
       "      <th>13.0</th>\n",
       "      <td>431859.170732</td>\n",
       "      <td>41.073427</td>\n",
       "      <td>3218.157598</td>\n",
       "    </tr>\n",
       "  </tbody>\n",
       "</table>\n",
       "</div>"
      ],
      "text/plain": [
       "                          CO_CURSO     NT_GER       CO_IES\n",
       "CO_CATEGAD CO_GRUPO                                       \n",
       "93.0       13.0      431859.170732  41.073427  3218.157598"
      ]
     },
     "execution_count": 22,
     "metadata": {},
     "output_type": "execute_result"
    }
   ],
   "source": [
    "colunas_grupo_curso_nota.where((colunas_grupo_curso_nota.CO_GRUPO == 13) & (colunas_grupo_curso_nota.CO_CATEGAD == 93))\\\n",
    "    .groupby(['CO_CATEGAD', 'CO_GRUPO']).mean() #média dos alunos de economia das universidades federais"
   ]
  },
  {
   "cell_type": "code",
   "execution_count": 1,
   "metadata": {},
   "outputs": [
    {
     "ename": "NameError",
     "evalue": "name 'colunas_grupo_curso_nota' is not defined",
     "output_type": "error",
     "traceback": [
      "\u001b[1;31m---------------------------------------------------------------------------\u001b[0m",
      "\u001b[1;31mNameError\u001b[0m                                 Traceback (most recent call last)",
      "\u001b[1;32mc:\\Github\\Analise-Microdados-Enade\\microdadosEnade.ipynb Cell 34'\u001b[0m in \u001b[0;36m<module>\u001b[1;34m\u001b[0m\n\u001b[1;32m----> <a href='vscode-notebook-cell:/c%3A/Github/Analise-Microdados-Enade/microdadosEnade.ipynb#ch0000033?line=0'>1</a>\u001b[0m colunas_grupo_curso_nota\u001b[39m.\u001b[39mwhere((colunas_grupo_curso_nota\u001b[39m.\u001b[39mCO_GRUPO \u001b[39m==\u001b[39m \u001b[39m13\u001b[39m)\\\n\u001b[0;32m      <a href='vscode-notebook-cell:/c%3A/Github/Analise-Microdados-Enade/microdadosEnade.ipynb#ch0000033?line=1'>2</a>\u001b[0m      \u001b[39m&\u001b[39m (colunas_grupo_curso_nota\u001b[39m.\u001b[39mCO_CATEGAD \u001b[39m==\u001b[39m \u001b[39m10002\u001b[39m))\\\n\u001b[0;32m      <a href='vscode-notebook-cell:/c%3A/Github/Analise-Microdados-Enade/microdadosEnade.ipynb#ch0000033?line=2'>3</a>\u001b[0m      \u001b[39m.\u001b[39mgroupby([\u001b[39m'\u001b[39m\u001b[39mCO_CATEGAD\u001b[39m\u001b[39m'\u001b[39m])\u001b[39m.\u001b[39mmean()\n",
      "\u001b[1;31mNameError\u001b[0m: name 'colunas_grupo_curso_nota' is not defined"
     ]
    }
   ],
   "source": [
    "colunas_grupo_curso_nota.where((colunas_grupo_curso_nota.CO_GRUPO == 13)\\\n",
    "     & (colunas_grupo_curso_nota.CO_CATEGAD == 10002))\\\n",
    "     .groupby(['CO_CATEGAD']).mean() #média dos alunos de economia da UFPR"
   ]
  },
  {
   "cell_type": "markdown",
   "metadata": {},
   "source": [
    "X) Média e mediana da nota geral do curso de economia da UFPR"
   ]
  },
  {
   "cell_type": "code",
   "execution_count": 24,
   "metadata": {},
   "outputs": [
    {
     "data": {
      "text/html": [
       "<div>\n",
       "<style scoped>\n",
       "    .dataframe tbody tr th:only-of-type {\n",
       "        vertical-align: middle;\n",
       "    }\n",
       "\n",
       "    .dataframe tbody tr th {\n",
       "        vertical-align: top;\n",
       "    }\n",
       "\n",
       "    .dataframe thead th {\n",
       "        text-align: right;\n",
       "    }\n",
       "</style>\n",
       "<table border=\"1\" class=\"dataframe\">\n",
       "  <thead>\n",
       "    <tr style=\"text-align: right;\">\n",
       "      <th></th>\n",
       "      <th>CO_CURSO</th>\n",
       "      <th>NT_GER</th>\n",
       "      <th>CO_CATEGAD</th>\n",
       "      <th>CO_IES</th>\n",
       "    </tr>\n",
       "    <tr>\n",
       "      <th>CO_GRUPO</th>\n",
       "      <th></th>\n",
       "      <th></th>\n",
       "      <th></th>\n",
       "      <th></th>\n",
       "    </tr>\n",
       "  </thead>\n",
       "  <tbody>\n",
       "    <tr>\n",
       "      <th>13.0</th>\n",
       "      <td>37169.0</td>\n",
       "      <td>38.806186</td>\n",
       "      <td>10002.0</td>\n",
       "      <td>571.0</td>\n",
       "    </tr>\n",
       "  </tbody>\n",
       "</table>\n",
       "</div>"
      ],
      "text/plain": [
       "          CO_CURSO     NT_GER  CO_CATEGAD  CO_IES\n",
       "CO_GRUPO                                         \n",
       "13.0       37169.0  38.806186     10002.0   571.0"
      ]
     },
     "execution_count": 24,
     "metadata": {},
     "output_type": "execute_result"
    }
   ],
   "source": [
    "colunas_grupo_curso_nota.where((colunas_grupo_curso_nota.CO_GRUPO == 13)\\\n",
    "     & (colunas_grupo_curso_nota.CO_CATEGAD == 10002)\\\n",
    "     & (colunas_grupo_curso_nota.CO_IES == 571))\\\n",
    "     .groupby(['CO_GRUPO']).mean() #média dos alunos de economia da UFPR"
   ]
  },
  {
   "cell_type": "code",
   "execution_count": 25,
   "metadata": {},
   "outputs": [
    {
     "data": {
      "text/html": [
       "<div>\n",
       "<style scoped>\n",
       "    .dataframe tbody tr th:only-of-type {\n",
       "        vertical-align: middle;\n",
       "    }\n",
       "\n",
       "    .dataframe tbody tr th {\n",
       "        vertical-align: top;\n",
       "    }\n",
       "\n",
       "    .dataframe thead th {\n",
       "        text-align: right;\n",
       "    }\n",
       "</style>\n",
       "<table border=\"1\" class=\"dataframe\">\n",
       "  <thead>\n",
       "    <tr style=\"text-align: right;\">\n",
       "      <th></th>\n",
       "      <th>CO_CURSO</th>\n",
       "      <th>NT_GER</th>\n",
       "      <th>CO_CATEGAD</th>\n",
       "      <th>CO_IES</th>\n",
       "    </tr>\n",
       "    <tr>\n",
       "      <th>CO_GRUPO</th>\n",
       "      <th></th>\n",
       "      <th></th>\n",
       "      <th></th>\n",
       "      <th></th>\n",
       "    </tr>\n",
       "  </thead>\n",
       "  <tbody>\n",
       "    <tr>\n",
       "      <th>13.0</th>\n",
       "      <td>49468.0</td>\n",
       "      <td>38.8</td>\n",
       "      <td>10002.0</td>\n",
       "      <td>571.0</td>\n",
       "    </tr>\n",
       "  </tbody>\n",
       "</table>\n",
       "</div>"
      ],
      "text/plain": [
       "          CO_CURSO  NT_GER  CO_CATEGAD  CO_IES\n",
       "CO_GRUPO                                      \n",
       "13.0       49468.0    38.8     10002.0   571.0"
      ]
     },
     "execution_count": 25,
     "metadata": {},
     "output_type": "execute_result"
    }
   ],
   "source": [
    "colunas_grupo_curso_nota.where((colunas_grupo_curso_nota.CO_GRUPO == 13)\\\n",
    "     & (colunas_grupo_curso_nota.CO_CATEGAD == 10002)\\\n",
    "     & (colunas_grupo_curso_nota.CO_IES == 571))\\\n",
    "     .groupby(['CO_GRUPO']).median() #média dos alunos de economia da UFPR"
   ]
  }
 ],
 "metadata": {
  "interpreter": {
   "hash": "08820d80d9da2e8b8362dd7eb175f13515edfba605b5089051618ffd8d1308cc"
  },
  "kernelspec": {
   "display_name": "Python 3.10.1 64-bit",
   "language": "python",
   "name": "python3"
  },
  "language_info": {
   "codemirror_mode": {
    "name": "ipython",
    "version": 3
   },
   "file_extension": ".py",
   "mimetype": "text/x-python",
   "name": "python",
   "nbconvert_exporter": "python",
   "pygments_lexer": "ipython3",
   "version": "3.10.1"
  },
  "orig_nbformat": 4
 },
 "nbformat": 4,
 "nbformat_minor": 2
}
