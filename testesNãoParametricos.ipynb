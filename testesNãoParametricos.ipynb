{
 "cells": [
  {
   "cell_type": "markdown",
   "metadata": {},
   "source": [
    "# Testes Não Paramétricos e Correlação"
   ]
  },
  {
   "cell_type": "markdown",
   "metadata": {},
   "source": [
    "### Pacotes"
   ]
  },
  {
   "cell_type": "code",
   "execution_count": 1,
   "metadata": {},
   "outputs": [],
   "source": [
    "import pandas as pd #pacote para manipulação de dados\n",
    "import matplotlib.pyplot as plt # pacote para criar gráficos\n",
    "import scipy.stats as spy\n",
    "from numpy import std\n",
    "\n",
    "import matplotlib\n",
    "matplotlib.rcParams['figure.figsize'] = (16,8) # define o tamanho padrão dos gráficos criados\n"
   ]
  },
  {
   "cell_type": "markdown",
   "metadata": {},
   "source": [
    "### Importação dos Dados"
   ]
  },
  {
   "cell_type": "code",
   "execution_count": 2,
   "metadata": {},
   "outputs": [],
   "source": [
    "path = r\"D:\\UFPR\\2º Semestre 2021\\Estatística Econômica e Introdução à Econometria\\1. Relatório Enade\\2018\\3.DADOS\\microdados_enade_2018.txt\"\n",
    "enade = pd.read_table(path, sep=';', decimal=',')"
   ]
  },
  {
   "cell_type": "code",
   "execution_count": 3,
   "metadata": {},
   "outputs": [
    {
     "data": {
      "text/html": [
       "<div>\n",
       "<style scoped>\n",
       "    .dataframe tbody tr th:only-of-type {\n",
       "        vertical-align: middle;\n",
       "    }\n",
       "\n",
       "    .dataframe tbody tr th {\n",
       "        vertical-align: top;\n",
       "    }\n",
       "\n",
       "    .dataframe thead th {\n",
       "        text-align: right;\n",
       "    }\n",
       "</style>\n",
       "<table border=\"1\" class=\"dataframe\">\n",
       "  <thead>\n",
       "    <tr style=\"text-align: right;\">\n",
       "      <th></th>\n",
       "      <th>NU_ANO</th>\n",
       "      <th>CO_IES</th>\n",
       "      <th>CO_CATEGAD</th>\n",
       "      <th>CO_ORGACAD</th>\n",
       "      <th>CO_GRUPO</th>\n",
       "      <th>CO_CURSO</th>\n",
       "      <th>CO_MODALIDADE</th>\n",
       "      <th>CO_MUNIC_CURSO</th>\n",
       "      <th>CO_UF_CURSO</th>\n",
       "      <th>CO_REGIAO_CURSO</th>\n",
       "      <th>...</th>\n",
       "      <th>QE_I59</th>\n",
       "      <th>QE_I60</th>\n",
       "      <th>QE_I61</th>\n",
       "      <th>QE_I62</th>\n",
       "      <th>QE_I63</th>\n",
       "      <th>QE_I64</th>\n",
       "      <th>QE_I65</th>\n",
       "      <th>QE_I66</th>\n",
       "      <th>QE_I67</th>\n",
       "      <th>QE_I68</th>\n",
       "    </tr>\n",
       "  </thead>\n",
       "  <tbody>\n",
       "    <tr>\n",
       "      <th>0</th>\n",
       "      <td>2018</td>\n",
       "      <td>1356</td>\n",
       "      <td>10003</td>\n",
       "      <td>10020</td>\n",
       "      <td>1</td>\n",
       "      <td>47116</td>\n",
       "      <td>1</td>\n",
       "      <td>3546603</td>\n",
       "      <td>35</td>\n",
       "      <td>3</td>\n",
       "      <td>...</td>\n",
       "      <td>6.0</td>\n",
       "      <td>6.0</td>\n",
       "      <td>6.0</td>\n",
       "      <td>6.0</td>\n",
       "      <td>6.0</td>\n",
       "      <td>6.0</td>\n",
       "      <td>6.0</td>\n",
       "      <td>6.0</td>\n",
       "      <td>6.0</td>\n",
       "      <td>5.0</td>\n",
       "    </tr>\n",
       "    <tr>\n",
       "      <th>1</th>\n",
       "      <td>2018</td>\n",
       "      <td>1356</td>\n",
       "      <td>10003</td>\n",
       "      <td>10020</td>\n",
       "      <td>1</td>\n",
       "      <td>47116</td>\n",
       "      <td>1</td>\n",
       "      <td>3546603</td>\n",
       "      <td>35</td>\n",
       "      <td>3</td>\n",
       "      <td>...</td>\n",
       "      <td>6.0</td>\n",
       "      <td>6.0</td>\n",
       "      <td>6.0</td>\n",
       "      <td>6.0</td>\n",
       "      <td>6.0</td>\n",
       "      <td>6.0</td>\n",
       "      <td>6.0</td>\n",
       "      <td>6.0</td>\n",
       "      <td>6.0</td>\n",
       "      <td>6.0</td>\n",
       "    </tr>\n",
       "    <tr>\n",
       "      <th>2</th>\n",
       "      <td>2018</td>\n",
       "      <td>1356</td>\n",
       "      <td>10003</td>\n",
       "      <td>10020</td>\n",
       "      <td>1</td>\n",
       "      <td>47116</td>\n",
       "      <td>1</td>\n",
       "      <td>3546603</td>\n",
       "      <td>35</td>\n",
       "      <td>3</td>\n",
       "      <td>...</td>\n",
       "      <td>6.0</td>\n",
       "      <td>6.0</td>\n",
       "      <td>6.0</td>\n",
       "      <td>6.0</td>\n",
       "      <td>6.0</td>\n",
       "      <td>6.0</td>\n",
       "      <td>6.0</td>\n",
       "      <td>6.0</td>\n",
       "      <td>6.0</td>\n",
       "      <td>5.0</td>\n",
       "    </tr>\n",
       "    <tr>\n",
       "      <th>3</th>\n",
       "      <td>2018</td>\n",
       "      <td>1356</td>\n",
       "      <td>10003</td>\n",
       "      <td>10020</td>\n",
       "      <td>1</td>\n",
       "      <td>47116</td>\n",
       "      <td>1</td>\n",
       "      <td>3546603</td>\n",
       "      <td>35</td>\n",
       "      <td>3</td>\n",
       "      <td>...</td>\n",
       "      <td>6.0</td>\n",
       "      <td>6.0</td>\n",
       "      <td>6.0</td>\n",
       "      <td>6.0</td>\n",
       "      <td>5.0</td>\n",
       "      <td>6.0</td>\n",
       "      <td>6.0</td>\n",
       "      <td>6.0</td>\n",
       "      <td>6.0</td>\n",
       "      <td>4.0</td>\n",
       "    </tr>\n",
       "    <tr>\n",
       "      <th>4</th>\n",
       "      <td>2018</td>\n",
       "      <td>1356</td>\n",
       "      <td>10003</td>\n",
       "      <td>10020</td>\n",
       "      <td>1</td>\n",
       "      <td>47116</td>\n",
       "      <td>1</td>\n",
       "      <td>3546603</td>\n",
       "      <td>35</td>\n",
       "      <td>3</td>\n",
       "      <td>...</td>\n",
       "      <td>6.0</td>\n",
       "      <td>6.0</td>\n",
       "      <td>6.0</td>\n",
       "      <td>6.0</td>\n",
       "      <td>6.0</td>\n",
       "      <td>6.0</td>\n",
       "      <td>6.0</td>\n",
       "      <td>6.0</td>\n",
       "      <td>6.0</td>\n",
       "      <td>6.0</td>\n",
       "    </tr>\n",
       "  </tbody>\n",
       "</table>\n",
       "<p>5 rows × 137 columns</p>\n",
       "</div>"
      ],
      "text/plain": [
       "   NU_ANO  CO_IES  CO_CATEGAD  CO_ORGACAD  CO_GRUPO  CO_CURSO  CO_MODALIDADE  \\\n",
       "0    2018    1356       10003       10020         1     47116              1   \n",
       "1    2018    1356       10003       10020         1     47116              1   \n",
       "2    2018    1356       10003       10020         1     47116              1   \n",
       "3    2018    1356       10003       10020         1     47116              1   \n",
       "4    2018    1356       10003       10020         1     47116              1   \n",
       "\n",
       "   CO_MUNIC_CURSO  CO_UF_CURSO  CO_REGIAO_CURSO  ...  QE_I59 QE_I60  QE_I61  \\\n",
       "0         3546603           35                3  ...     6.0    6.0     6.0   \n",
       "1         3546603           35                3  ...     6.0    6.0     6.0   \n",
       "2         3546603           35                3  ...     6.0    6.0     6.0   \n",
       "3         3546603           35                3  ...     6.0    6.0     6.0   \n",
       "4         3546603           35                3  ...     6.0    6.0     6.0   \n",
       "\n",
       "   QE_I62  QE_I63  QE_I64  QE_I65  QE_I66  QE_I67  QE_I68  \n",
       "0     6.0     6.0     6.0     6.0     6.0     6.0     5.0  \n",
       "1     6.0     6.0     6.0     6.0     6.0     6.0     6.0  \n",
       "2     6.0     6.0     6.0     6.0     6.0     6.0     5.0  \n",
       "3     6.0     5.0     6.0     6.0     6.0     6.0     4.0  \n",
       "4     6.0     6.0     6.0     6.0     6.0     6.0     6.0  \n",
       "\n",
       "[5 rows x 137 columns]"
      ]
     },
     "execution_count": 3,
     "metadata": {},
     "output_type": "execute_result"
    }
   ],
   "source": [
    "enade.head()"
   ]
  },
  {
   "cell_type": "code",
   "execution_count": 3,
   "metadata": {},
   "outputs": [],
   "source": [
    "enadeQ21 = enade.filter(['CO_GRUPO', 'QE_I21', 'NT_GER'])"
   ]
  },
  {
   "cell_type": "code",
   "execution_count": 4,
   "metadata": {},
   "outputs": [
    {
     "data": {
      "text/html": [
       "<div>\n",
       "<style scoped>\n",
       "    .dataframe tbody tr th:only-of-type {\n",
       "        vertical-align: middle;\n",
       "    }\n",
       "\n",
       "    .dataframe tbody tr th {\n",
       "        vertical-align: top;\n",
       "    }\n",
       "\n",
       "    .dataframe thead th {\n",
       "        text-align: right;\n",
       "    }\n",
       "</style>\n",
       "<table border=\"1\" class=\"dataframe\">\n",
       "  <thead>\n",
       "    <tr style=\"text-align: right;\">\n",
       "      <th></th>\n",
       "      <th>CO_GRUPO</th>\n",
       "      <th>QE_I21</th>\n",
       "      <th>NT_GER</th>\n",
       "    </tr>\n",
       "  </thead>\n",
       "  <tbody>\n",
       "    <tr>\n",
       "      <th>0</th>\n",
       "      <td>1</td>\n",
       "      <td>A</td>\n",
       "      <td>42.8</td>\n",
       "    </tr>\n",
       "    <tr>\n",
       "      <th>1</th>\n",
       "      <td>1</td>\n",
       "      <td>A</td>\n",
       "      <td>59.3</td>\n",
       "    </tr>\n",
       "    <tr>\n",
       "      <th>2</th>\n",
       "      <td>1</td>\n",
       "      <td>B</td>\n",
       "      <td>60.9</td>\n",
       "    </tr>\n",
       "    <tr>\n",
       "      <th>3</th>\n",
       "      <td>1</td>\n",
       "      <td>A</td>\n",
       "      <td>25.0</td>\n",
       "    </tr>\n",
       "    <tr>\n",
       "      <th>4</th>\n",
       "      <td>1</td>\n",
       "      <td>B</td>\n",
       "      <td>42.4</td>\n",
       "    </tr>\n",
       "  </tbody>\n",
       "</table>\n",
       "</div>"
      ],
      "text/plain": [
       "   CO_GRUPO QE_I21  NT_GER\n",
       "0         1      A    42.8\n",
       "1         1      A    59.3\n",
       "2         1      B    60.9\n",
       "3         1      A    25.0\n",
       "4         1      B    42.4"
      ]
     },
     "execution_count": 4,
     "metadata": {},
     "output_type": "execute_result"
    }
   ],
   "source": [
    "enadeQ21.head()"
   ]
  },
  {
   "cell_type": "markdown",
   "metadata": {},
   "source": [
    "# Médias e Medianas"
   ]
  },
  {
   "cell_type": "code",
   "execution_count": 29,
   "metadata": {},
   "outputs": [
    {
     "data": {
      "text/plain": [
       "41.79012335796741"
      ]
     },
     "execution_count": 29,
     "metadata": {},
     "output_type": "execute_result"
    }
   ],
   "source": [
    "enadeQ21['NT_GER'].mean() #Média da nota geral de todos os cursos de alunos que possuem pais com ensino superior(A) e sem ensino superior(B)"
   ]
  },
  {
   "cell_type": "code",
   "execution_count": 30,
   "metadata": {},
   "outputs": [
    {
     "data": {
      "text/plain": [
       "41.0"
      ]
     },
     "execution_count": 30,
     "metadata": {},
     "output_type": "execute_result"
    }
   ],
   "source": [
    "enadeQ21['NT_GER'].median() #Média da nota geral de todos os cursos de alunos que possuem pais com ensino superior(A) e sem ensino superior(B)"
   ]
  },
  {
   "cell_type": "code",
   "execution_count": 8,
   "metadata": {},
   "outputs": [
    {
     "data": {
      "text/html": [
       "<div>\n",
       "<style scoped>\n",
       "    .dataframe tbody tr th:only-of-type {\n",
       "        vertical-align: middle;\n",
       "    }\n",
       "\n",
       "    .dataframe tbody tr th {\n",
       "        vertical-align: top;\n",
       "    }\n",
       "\n",
       "    .dataframe thead th {\n",
       "        text-align: right;\n",
       "    }\n",
       "</style>\n",
       "<table border=\"1\" class=\"dataframe\">\n",
       "  <thead>\n",
       "    <tr style=\"text-align: right;\">\n",
       "      <th></th>\n",
       "      <th></th>\n",
       "      <th>NT_GER</th>\n",
       "    </tr>\n",
       "    <tr>\n",
       "      <th>QE_I21</th>\n",
       "      <th>CO_GRUPO</th>\n",
       "      <th></th>\n",
       "    </tr>\n",
       "  </thead>\n",
       "  <tbody>\n",
       "    <tr>\n",
       "      <th>A</th>\n",
       "      <th>13.0</th>\n",
       "      <td>6124</td>\n",
       "    </tr>\n",
       "    <tr>\n",
       "      <th>B</th>\n",
       "      <th>13.0</th>\n",
       "      <td>1900</td>\n",
       "    </tr>\n",
       "  </tbody>\n",
       "</table>\n",
       "</div>"
      ],
      "text/plain": [
       "                 NT_GER\n",
       "QE_I21 CO_GRUPO        \n",
       "A      13.0        6124\n",
       "B      13.0        1900"
      ]
     },
     "execution_count": 8,
     "metadata": {},
     "output_type": "execute_result"
    }
   ],
   "source": [
    "enadeQ21.where(enadeQ21.CO_GRUPO==13).groupby(['QE_I21','CO_GRUPO']).count() #Média da nota geral do curso de economia"
   ]
  },
  {
   "cell_type": "code",
   "execution_count": 8,
   "metadata": {},
   "outputs": [
    {
     "data": {
      "text/html": [
       "<div>\n",
       "<style scoped>\n",
       "    .dataframe tbody tr th:only-of-type {\n",
       "        vertical-align: middle;\n",
       "    }\n",
       "\n",
       "    .dataframe tbody tr th {\n",
       "        vertical-align: top;\n",
       "    }\n",
       "\n",
       "    .dataframe thead th {\n",
       "        text-align: right;\n",
       "    }\n",
       "</style>\n",
       "<table border=\"1\" class=\"dataframe\">\n",
       "  <thead>\n",
       "    <tr style=\"text-align: right;\">\n",
       "      <th></th>\n",
       "      <th>NT_GER</th>\n",
       "    </tr>\n",
       "    <tr>\n",
       "      <th>CO_GRUPO</th>\n",
       "      <th></th>\n",
       "    </tr>\n",
       "  </thead>\n",
       "  <tbody>\n",
       "    <tr>\n",
       "      <th>13.0</th>\n",
       "      <td>37.2</td>\n",
       "    </tr>\n",
       "  </tbody>\n",
       "</table>\n",
       "</div>"
      ],
      "text/plain": [
       "          NT_GER\n",
       "CO_GRUPO        \n",
       "13.0        37.2"
      ]
     },
     "execution_count": 8,
     "metadata": {},
     "output_type": "execute_result"
    }
   ],
   "source": [
    "enadeQ21.where(enadeQ21.CO_GRUPO==13).groupby('CO_GRUPO').median() #Mediana da nota geral do curso de economia"
   ]
  },
  {
   "cell_type": "code",
   "execution_count": 9,
   "metadata": {},
   "outputs": [
    {
     "data": {
      "text/html": [
       "<div>\n",
       "<style scoped>\n",
       "    .dataframe tbody tr th:only-of-type {\n",
       "        vertical-align: middle;\n",
       "    }\n",
       "\n",
       "    .dataframe tbody tr th {\n",
       "        vertical-align: top;\n",
       "    }\n",
       "\n",
       "    .dataframe thead th {\n",
       "        text-align: right;\n",
       "    }\n",
       "</style>\n",
       "<table border=\"1\" class=\"dataframe\">\n",
       "  <thead>\n",
       "    <tr style=\"text-align: right;\">\n",
       "      <th></th>\n",
       "      <th>CO_GRUPO</th>\n",
       "      <th>NT_GER</th>\n",
       "    </tr>\n",
       "    <tr>\n",
       "      <th>QE_I21</th>\n",
       "      <th></th>\n",
       "      <th></th>\n",
       "    </tr>\n",
       "  </thead>\n",
       "  <tbody>\n",
       "    <tr>\n",
       "      <th>A</th>\n",
       "      <td>13.0</td>\n",
       "      <td>39.357903</td>\n",
       "    </tr>\n",
       "  </tbody>\n",
       "</table>\n",
       "</div>"
      ],
      "text/plain": [
       "        CO_GRUPO     NT_GER\n",
       "QE_I21                     \n",
       "A           13.0  39.357903"
      ]
     },
     "execution_count": 9,
     "metadata": {},
     "output_type": "execute_result"
    }
   ],
   "source": [
    "enadeQ21.where((enadeQ21.CO_GRUPO == 13) & (enadeQ21.QE_I21 == 'A')).groupby('QE_I21').mean() #MÉDIA da nota geral do curso de economia de alunos que possuem pais COM ensino superior (A)"
   ]
  },
  {
   "cell_type": "code",
   "execution_count": 10,
   "metadata": {},
   "outputs": [
    {
     "data": {
      "text/html": [
       "<div>\n",
       "<style scoped>\n",
       "    .dataframe tbody tr th:only-of-type {\n",
       "        vertical-align: middle;\n",
       "    }\n",
       "\n",
       "    .dataframe tbody tr th {\n",
       "        vertical-align: top;\n",
       "    }\n",
       "\n",
       "    .dataframe thead th {\n",
       "        text-align: right;\n",
       "    }\n",
       "</style>\n",
       "<table border=\"1\" class=\"dataframe\">\n",
       "  <thead>\n",
       "    <tr style=\"text-align: right;\">\n",
       "      <th></th>\n",
       "      <th>CO_GRUPO</th>\n",
       "      <th>NT_GER</th>\n",
       "    </tr>\n",
       "    <tr>\n",
       "      <th>QE_I21</th>\n",
       "      <th></th>\n",
       "      <th></th>\n",
       "    </tr>\n",
       "  </thead>\n",
       "  <tbody>\n",
       "    <tr>\n",
       "      <th>B</th>\n",
       "      <td>13.0</td>\n",
       "      <td>35.401737</td>\n",
       "    </tr>\n",
       "  </tbody>\n",
       "</table>\n",
       "</div>"
      ],
      "text/plain": [
       "        CO_GRUPO     NT_GER\n",
       "QE_I21                     \n",
       "B           13.0  35.401737"
      ]
     },
     "execution_count": 10,
     "metadata": {},
     "output_type": "execute_result"
    }
   ],
   "source": [
    "enadeQ21.where((enadeQ21.CO_GRUPO == 13) & (enadeQ21.QE_I21 == 'B')).groupby('QE_I21').mean() #MÉDIA da nota geral do curso de economia de alunos que possuem pais SEM ensino superior (A)"
   ]
  },
  {
   "cell_type": "code",
   "execution_count": 11,
   "metadata": {},
   "outputs": [
    {
     "data": {
      "text/html": [
       "<div>\n",
       "<style scoped>\n",
       "    .dataframe tbody tr th:only-of-type {\n",
       "        vertical-align: middle;\n",
       "    }\n",
       "\n",
       "    .dataframe tbody tr th {\n",
       "        vertical-align: top;\n",
       "    }\n",
       "\n",
       "    .dataframe thead th {\n",
       "        text-align: right;\n",
       "    }\n",
       "</style>\n",
       "<table border=\"1\" class=\"dataframe\">\n",
       "  <thead>\n",
       "    <tr style=\"text-align: right;\">\n",
       "      <th></th>\n",
       "      <th>CO_GRUPO</th>\n",
       "      <th>NT_GER</th>\n",
       "    </tr>\n",
       "    <tr>\n",
       "      <th>QE_I21</th>\n",
       "      <th></th>\n",
       "      <th></th>\n",
       "    </tr>\n",
       "  </thead>\n",
       "  <tbody>\n",
       "    <tr>\n",
       "      <th>A</th>\n",
       "      <td>13.0</td>\n",
       "      <td>38.2</td>\n",
       "    </tr>\n",
       "  </tbody>\n",
       "</table>\n",
       "</div>"
      ],
      "text/plain": [
       "        CO_GRUPO  NT_GER\n",
       "QE_I21                  \n",
       "A           13.0    38.2"
      ]
     },
     "execution_count": 11,
     "metadata": {},
     "output_type": "execute_result"
    }
   ],
   "source": [
    "enadeQ21.where((enadeQ21.CO_GRUPO == 13) & (enadeQ21.QE_I21 == 'A')).groupby('QE_I21').median() #MEDIANA da nota geral do curso de economia de alunos que possuem pais COM ensino superior (A)"
   ]
  },
  {
   "cell_type": "code",
   "execution_count": 12,
   "metadata": {},
   "outputs": [
    {
     "data": {
      "text/html": [
       "<div>\n",
       "<style scoped>\n",
       "    .dataframe tbody tr th:only-of-type {\n",
       "        vertical-align: middle;\n",
       "    }\n",
       "\n",
       "    .dataframe tbody tr th {\n",
       "        vertical-align: top;\n",
       "    }\n",
       "\n",
       "    .dataframe thead th {\n",
       "        text-align: right;\n",
       "    }\n",
       "</style>\n",
       "<table border=\"1\" class=\"dataframe\">\n",
       "  <thead>\n",
       "    <tr style=\"text-align: right;\">\n",
       "      <th></th>\n",
       "      <th>CO_GRUPO</th>\n",
       "      <th>NT_GER</th>\n",
       "    </tr>\n",
       "    <tr>\n",
       "      <th>QE_I21</th>\n",
       "      <th></th>\n",
       "      <th></th>\n",
       "    </tr>\n",
       "  </thead>\n",
       "  <tbody>\n",
       "    <tr>\n",
       "      <th>B</th>\n",
       "      <td>13.0</td>\n",
       "      <td>34.3</td>\n",
       "    </tr>\n",
       "  </tbody>\n",
       "</table>\n",
       "</div>"
      ],
      "text/plain": [
       "        CO_GRUPO  NT_GER\n",
       "QE_I21                  \n",
       "B           13.0    34.3"
      ]
     },
     "execution_count": 12,
     "metadata": {},
     "output_type": "execute_result"
    }
   ],
   "source": [
    "enadeQ21.where((enadeQ21.CO_GRUPO == 13) & (enadeQ21.QE_I21 == 'B')).groupby('QE_I21').median() #MEDIANA da nota geral do curso de economia de alunos que possuem pais SEM ensino superior (A)"
   ]
  },
  {
   "cell_type": "markdown",
   "metadata": {},
   "source": [
    "desvio padrão"
   ]
  },
  {
   "cell_type": "code",
   "execution_count": 12,
   "metadata": {},
   "outputs": [
    {
     "name": "stdout",
     "output_type": "stream",
     "text": [
      "14.658834918445478\n",
      "13.623364628117802\n"
     ]
    }
   ],
   "source": [
    "print(std(enadeQ21.where(enadeQ21.QE_I21 == 'A')['NT_GER'])) #Desvio Padrão Geral\n",
    "print(std(enadeQ21.where(enadeQ21.QE_I21 == 'B')['NT_GER']))"
   ]
  },
  {
   "cell_type": "code",
   "execution_count": 13,
   "metadata": {},
   "outputs": [
    {
     "name": "stdout",
     "output_type": "stream",
     "text": [
      "13.289988076110406\n",
      "12.107246726616625\n"
     ]
    }
   ],
   "source": [
    "print(std(enadeQ21.where((enadeQ21.CO_GRUPO == 13) & (enadeQ21.QE_I21 == 'A'))['NT_GER'])) # Desvio Padrão dos Cursos de Economia\n",
    "print(std(enadeQ21.where((enadeQ21.CO_GRUPO == 13) & (enadeQ21.QE_I21 == 'B'))['NT_GER']))"
   ]
  },
  {
   "cell_type": "code",
   "execution_count": 26,
   "metadata": {},
   "outputs": [
    {
     "name": "stdout",
     "output_type": "stream",
     "text": [
      "14.392320804145431\n"
     ]
    }
   ],
   "source": [
    "print(std(enadeQ21['NT_GER']))"
   ]
  },
  {
   "cell_type": "markdown",
   "metadata": {},
   "source": [
    "## Gráfico: Histograma da Nota Geral de Economia de Alunos Com Pais que Possuem e Não Possuem Ensino Superior"
   ]
  },
  {
   "cell_type": "code",
   "execution_count": 6,
   "metadata": {},
   "outputs": [
    {
     "data": {
      "image/png": "[encoded data removed]",
      "text/plain": [
       "<Figure size 1152x576 with 1 Axes>"
      ]
     },
     "metadata": {},
     "output_type": "display_data"
    }
   ],
   "source": [
    "#Gráfico histograma do curso de economia (comparação com e sem ensino superior)\n",
    "plt.style.use('ggplot')\n",
    "fig, ax = plt.subplots()\n",
    "ax.hist(enadeQ21.where((enadeQ21.CO_GRUPO == 13) & (enadeQ21.QE_I21 == 'A'))['NT_GER'], \n",
    "    bins=20, \n",
    "    label='Possuem Ensino Superior', \n",
    "    color='limegreen'\n",
    "    )\n",
    "ax.hist(enadeQ21.where((enadeQ21.CO_GRUPO == 13) & (enadeQ21.QE_I21 == 'B'))['NT_GER'], \n",
    "    bins=20, \n",
    "    label='Não Possuem Ensino Superior',\n",
    "    color='darkgreen'\n",
    "    )\n",
    "ax.vlines([38.397424], 0, 1, transform=ax.get_xaxis_transform(), colors=['royalblue'], label='Média')\n",
    "ax.vlines([37.2], 0, 1, transform=ax.get_xaxis_transform(), colors=['blue'], label='Mediana')\n",
    "ax.set_title('Desempenho dos Alunos de Economia de Alunos que Possuem Familiares com e Familiares Sem Ensino Superior')\n",
    "ax.set_xlabel('Nota Geral', size='14')\n",
    "ax.set_ylabel('Quantidade de Alunos', size='14')\n",
    "plt.legend(\n",
    "    title='Familiares que:',\n",
    "    title_fontsize=11,\n",
    "    loc='upper left',\n",
    "    ncol = 1,\n",
    "    bbox_to_anchor=(0.01,0.97),\n",
    "    frameon=True,\n",
    "    facecolor='white',\n",
    "    shadow=True,\n",
    "    fontsize=10)\n",
    "ax.text(0.02,\n",
    "    0.65, \n",
    "    r'$\\mu=38.4,\\ Med=37.2,\\ \\sigma=13.7$', \n",
    "    transform=ax.transAxes, \n",
    "    fontsize=10, \n",
    "    bbox={'boxstyle':'round','facecolor':'white','alpha':1})\n",
    "fig.savefig('Gráfico histograma do curso de economia (comparação familiar com e sem ensino superior).png')"
   ]
  },
  {
   "cell_type": "code",
   "execution_count": 7,
   "metadata": {},
   "outputs": [
    {
     "data": {
      "image/png": "[encoded data removed]",
      "text/plain": [
       "<Figure size 1152x576 with 1 Axes>"
      ]
     },
     "metadata": {},
     "output_type": "display_data"
    }
   ],
   "source": [
    "#Gráfico histograma do curso de economia (comparação com e sem ensino superior)\n",
    "plt.style.use('ggplot')\n",
    "fig, ax = plt.subplots()\n",
    "ax.hist(enadeQ21.where(enadeQ21.QE_I21 == 'A')['NT_GER'], \n",
    "    bins=20, \n",
    "    label='Possuem Ensino Superior', \n",
    "    color='royalblue'\n",
    "    )\n",
    "ax.hist(enadeQ21.where(enadeQ21.QE_I21 == 'B')['NT_GER'], \n",
    "    bins=20, \n",
    "    label='Não Possuem Ensino Superior',\n",
    "    color='blue'\n",
    "    )\n",
    "ax.vlines([41.8], 0, 1, transform=ax.get_xaxis_transform(), colors=['limegreen'], label='Média')\n",
    "ax.vlines([41], 0, 1, transform=ax.get_xaxis_transform(), colors=['darkgreen'], label='Mediana')\n",
    "ax.set_title('Desempenho dos Alunos de Todos os Cursos que Possuem Familiares com e Familiares Sem Ensino Superior')\n",
    "ax.set_xlabel('Nota Geral', size='14')\n",
    "ax.set_ylabel('Quantidade de Alunos', size='14')\n",
    "plt.legend(\n",
    "    title='Familiares que:',\n",
    "    title_fontsize=11,\n",
    "    loc='upper left',\n",
    "    ncol = 1,\n",
    "    bbox_to_anchor=(0.01,0.97),\n",
    "    frameon=True,\n",
    "    facecolor='white',\n",
    "    shadow=True,\n",
    "    fontsize=10)\n",
    "ax.text(0.02, \n",
    "    0.65, \n",
    "    r'$\\mu=41.8,\\ Med=41,\\ \\sigma=14.4$', \n",
    "    transform=ax.transAxes, \n",
    "    fontsize=10, \n",
    "    bbox={'boxstyle':'round','facecolor':'white','alpha':1})\n",
    "fig.savefig('Gráfico histograma todos os cursos(comparação com e sem ensino superior).png')"
   ]
  },
  {
   "cell_type": "markdown",
   "metadata": {},
   "source": [
    "## Nota Geral Por Faixa de Renda"
   ]
  },
  {
   "cell_type": "code",
   "execution_count": 35,
   "metadata": {},
   "outputs": [],
   "source": [
    "# Respostas do questionario renda familiar\n",
    "qe_i08respostas = {\n",
    "    \"A\" : \"Até 1,5 salário mínimo (até R$ 1.431,00)\",\n",
    "    \"B\" : \"De 1,5 a 3 salários mínimos (R$ 1.431,01 a R$ 2.862,00)\",\n",
    "    \"C\" : \"De 3 a 4,5 salários mínimos (R$ 2.862,01 a R$ 4.293,00)\",\n",
    "    \"D\" : \"De 4,5 a 6 salários mínimos (R$ 4.293,01 a R$ 5.724,00)\",\n",
    "    \"E\" : \"De 6 a 10 salários mínimos (R$ 5.724,01 a R$ 9.540,00)\",\n",
    "    \"F\" : \"De 10 a 30 salários mínimos (R$ 9.540,01 a R$ 28.620,00)\",\n",
    "    \"G\" : \"Acima de 30 salários mínimos (mais de R$ 28.620,00)\"\n",
    "}\n",
    "\n",
    "textoqi08 = ''\n",
    "for key, value in qe_i08respostas.items():\n",
    "    textoqi08=textoqi08 + '{k} : {v}\\n'.format(k=key, v=value)"
   ]
  },
  {
   "cell_type": "code",
   "execution_count": 16,
   "metadata": {},
   "outputs": [
    {
     "data": {
      "text/html": [
       "<div>\n",
       "<style scoped>\n",
       "    .dataframe tbody tr th:only-of-type {\n",
       "        vertical-align: middle;\n",
       "    }\n",
       "\n",
       "    .dataframe tbody tr th {\n",
       "        vertical-align: top;\n",
       "    }\n",
       "\n",
       "    .dataframe thead th {\n",
       "        text-align: right;\n",
       "    }\n",
       "</style>\n",
       "<table border=\"1\" class=\"dataframe\">\n",
       "  <thead>\n",
       "    <tr style=\"text-align: right;\">\n",
       "      <th></th>\n",
       "      <th>CO_GRUPO</th>\n",
       "      <th>QE_I21</th>\n",
       "      <th>NT_GER</th>\n",
       "      <th>QE_I08</th>\n",
       "    </tr>\n",
       "  </thead>\n",
       "  <tbody>\n",
       "    <tr>\n",
       "      <th>0</th>\n",
       "      <td>1</td>\n",
       "      <td>A</td>\n",
       "      <td>42.8</td>\n",
       "      <td>C</td>\n",
       "    </tr>\n",
       "    <tr>\n",
       "      <th>1</th>\n",
       "      <td>1</td>\n",
       "      <td>A</td>\n",
       "      <td>59.3</td>\n",
       "      <td>D</td>\n",
       "    </tr>\n",
       "    <tr>\n",
       "      <th>2</th>\n",
       "      <td>1</td>\n",
       "      <td>B</td>\n",
       "      <td>60.9</td>\n",
       "      <td>E</td>\n",
       "    </tr>\n",
       "    <tr>\n",
       "      <th>3</th>\n",
       "      <td>1</td>\n",
       "      <td>A</td>\n",
       "      <td>25.0</td>\n",
       "      <td>D</td>\n",
       "    </tr>\n",
       "    <tr>\n",
       "      <th>4</th>\n",
       "      <td>1</td>\n",
       "      <td>B</td>\n",
       "      <td>42.4</td>\n",
       "      <td>E</td>\n",
       "    </tr>\n",
       "    <tr>\n",
       "      <th>...</th>\n",
       "      <td>...</td>\n",
       "      <td>...</td>\n",
       "      <td>...</td>\n",
       "      <td>...</td>\n",
       "    </tr>\n",
       "    <tr>\n",
       "      <th>548112</th>\n",
       "      <td>1</td>\n",
       "      <td>A</td>\n",
       "      <td>59.0</td>\n",
       "      <td>A</td>\n",
       "    </tr>\n",
       "    <tr>\n",
       "      <th>548114</th>\n",
       "      <td>1</td>\n",
       "      <td>A</td>\n",
       "      <td>47.8</td>\n",
       "      <td>C</td>\n",
       "    </tr>\n",
       "    <tr>\n",
       "      <th>548115</th>\n",
       "      <td>1</td>\n",
       "      <td>B</td>\n",
       "      <td>32.0</td>\n",
       "      <td>B</td>\n",
       "    </tr>\n",
       "    <tr>\n",
       "      <th>548117</th>\n",
       "      <td>1</td>\n",
       "      <td>A</td>\n",
       "      <td>32.8</td>\n",
       "      <td>F</td>\n",
       "    </tr>\n",
       "    <tr>\n",
       "      <th>548120</th>\n",
       "      <td>1</td>\n",
       "      <td>B</td>\n",
       "      <td>35.1</td>\n",
       "      <td>B</td>\n",
       "    </tr>\n",
       "  </tbody>\n",
       "</table>\n",
       "<p>459698 rows × 4 columns</p>\n",
       "</div>"
      ],
      "text/plain": [
       "        CO_GRUPO QE_I21  NT_GER QE_I08\n",
       "0              1      A    42.8      C\n",
       "1              1      A    59.3      D\n",
       "2              1      B    60.9      E\n",
       "3              1      A    25.0      D\n",
       "4              1      B    42.4      E\n",
       "...          ...    ...     ...    ...\n",
       "548112         1      A    59.0      A\n",
       "548114         1      A    47.8      C\n",
       "548115         1      B    32.0      B\n",
       "548117         1      A    32.8      F\n",
       "548120         1      B    35.1      B\n",
       "\n",
       "[459698 rows x 4 columns]"
      ]
     },
     "execution_count": 16,
     "metadata": {},
     "output_type": "execute_result"
    }
   ],
   "source": [
    "#substituição dos rótulos pela resposta do questionário\n",
    "enadeQ21eQE_I08 = enade.filter(['CO_GRUPO', 'QE_I21', 'NT_GER','QE_I08']).dropna()\n",
    "enadeQ21eQE_I08\n",
    "\n",
    "#enadeQ21eQE_I08['QE_I08'] = [qe_i08respostas[resp] for resp in enadeQ21eQE_I08.QE_I08] #captura cada resposta da coluna Q001 e adiciona ao lado a resposta alternativa correspondente. "
   ]
  },
  {
   "cell_type": "code",
   "execution_count": 17,
   "metadata": {},
   "outputs": [
    {
     "data": {
      "text/html": [
       "<div>\n",
       "<style scoped>\n",
       "    .dataframe tbody tr th:only-of-type {\n",
       "        vertical-align: middle;\n",
       "    }\n",
       "\n",
       "    .dataframe tbody tr th {\n",
       "        vertical-align: top;\n",
       "    }\n",
       "\n",
       "    .dataframe thead th {\n",
       "        text-align: right;\n",
       "    }\n",
       "</style>\n",
       "<table border=\"1\" class=\"dataframe\">\n",
       "  <thead>\n",
       "    <tr style=\"text-align: right;\">\n",
       "      <th></th>\n",
       "      <th>CO_GRUPO</th>\n",
       "      <th>QE_I21</th>\n",
       "      <th>NT_GER</th>\n",
       "      <th>QE_I08</th>\n",
       "    </tr>\n",
       "  </thead>\n",
       "  <tbody>\n",
       "    <tr>\n",
       "      <th>0</th>\n",
       "      <td>1</td>\n",
       "      <td>A</td>\n",
       "      <td>42.8</td>\n",
       "      <td>C</td>\n",
       "    </tr>\n",
       "    <tr>\n",
       "      <th>1</th>\n",
       "      <td>1</td>\n",
       "      <td>A</td>\n",
       "      <td>59.3</td>\n",
       "      <td>D</td>\n",
       "    </tr>\n",
       "    <tr>\n",
       "      <th>2</th>\n",
       "      <td>1</td>\n",
       "      <td>B</td>\n",
       "      <td>60.9</td>\n",
       "      <td>E</td>\n",
       "    </tr>\n",
       "    <tr>\n",
       "      <th>3</th>\n",
       "      <td>1</td>\n",
       "      <td>A</td>\n",
       "      <td>25.0</td>\n",
       "      <td>D</td>\n",
       "    </tr>\n",
       "    <tr>\n",
       "      <th>4</th>\n",
       "      <td>1</td>\n",
       "      <td>B</td>\n",
       "      <td>42.4</td>\n",
       "      <td>E</td>\n",
       "    </tr>\n",
       "  </tbody>\n",
       "</table>\n",
       "</div>"
      ],
      "text/plain": [
       "   CO_GRUPO QE_I21  NT_GER QE_I08\n",
       "0         1      A    42.8      C\n",
       "1         1      A    59.3      D\n",
       "2         1      B    60.9      E\n",
       "3         1      A    25.0      D\n",
       "4         1      B    42.4      E"
      ]
     },
     "execution_count": 17,
     "metadata": {},
     "output_type": "execute_result"
    }
   ],
   "source": [
    "enadeQ21eQE_I08.head()"
   ]
  },
  {
   "cell_type": "code",
   "execution_count": 18,
   "metadata": {},
   "outputs": [
    {
     "data": {
      "text/html": [
       "<div>\n",
       "<style scoped>\n",
       "    .dataframe tbody tr th:only-of-type {\n",
       "        vertical-align: middle;\n",
       "    }\n",
       "\n",
       "    .dataframe tbody tr th {\n",
       "        vertical-align: top;\n",
       "    }\n",
       "\n",
       "    .dataframe thead th {\n",
       "        text-align: right;\n",
       "    }\n",
       "</style>\n",
       "<table border=\"1\" class=\"dataframe\">\n",
       "  <thead>\n",
       "    <tr style=\"text-align: right;\">\n",
       "      <th></th>\n",
       "      <th>NT_GER</th>\n",
       "    </tr>\n",
       "    <tr>\n",
       "      <th>QE_I08</th>\n",
       "      <th></th>\n",
       "    </tr>\n",
       "  </thead>\n",
       "  <tbody>\n",
       "    <tr>\n",
       "      <th>F</th>\n",
       "      <td>48.379892</td>\n",
       "    </tr>\n",
       "    <tr>\n",
       "      <th>G</th>\n",
       "      <td>48.330459</td>\n",
       "    </tr>\n",
       "    <tr>\n",
       "      <th>E</th>\n",
       "      <td>45.393000</td>\n",
       "    </tr>\n",
       "    <tr>\n",
       "      <th>D</th>\n",
       "      <td>43.194903</td>\n",
       "    </tr>\n",
       "    <tr>\n",
       "      <th>C</th>\n",
       "      <td>41.523314</td>\n",
       "    </tr>\n",
       "    <tr>\n",
       "      <th>B</th>\n",
       "      <td>39.865974</td>\n",
       "    </tr>\n",
       "    <tr>\n",
       "      <th>A</th>\n",
       "      <td>39.041051</td>\n",
       "    </tr>\n",
       "  </tbody>\n",
       "</table>\n",
       "</div>"
      ],
      "text/plain": [
       "           NT_GER\n",
       "QE_I08           \n",
       "F       48.379892\n",
       "G       48.330459\n",
       "E       45.393000\n",
       "D       43.194903\n",
       "C       41.523314\n",
       "B       39.865974\n",
       "A       39.041051"
      ]
     },
     "execution_count": 18,
     "metadata": {},
     "output_type": "execute_result"
    }
   ],
   "source": [
    "#Média da nota geral dos alunos por faixa de renda\n",
    "enadeQ21eQE_I08.filter(items=['QE_I08', 'NT_GER'])\\\n",
    "    .groupby('QE_I08')\\\n",
    "    .mean()\\\n",
    "    .sort_values(by='NT_GER', ascending=False)"
   ]
  },
  {
   "cell_type": "code",
   "execution_count": 19,
   "metadata": {},
   "outputs": [
    {
     "data": {
      "text/html": [
       "<div>\n",
       "<style scoped>\n",
       "    .dataframe tbody tr th:only-of-type {\n",
       "        vertical-align: middle;\n",
       "    }\n",
       "\n",
       "    .dataframe tbody tr th {\n",
       "        vertical-align: top;\n",
       "    }\n",
       "\n",
       "    .dataframe thead th {\n",
       "        text-align: right;\n",
       "    }\n",
       "</style>\n",
       "<table border=\"1\" class=\"dataframe\">\n",
       "  <thead>\n",
       "    <tr style=\"text-align: right;\">\n",
       "      <th></th>\n",
       "      <th></th>\n",
       "      <th>NT_GER</th>\n",
       "    </tr>\n",
       "    <tr>\n",
       "      <th>QE_I21</th>\n",
       "      <th>QE_I08</th>\n",
       "      <th></th>\n",
       "    </tr>\n",
       "  </thead>\n",
       "  <tbody>\n",
       "    <tr>\n",
       "      <th rowspan=\"7\" valign=\"top\">A</th>\n",
       "      <th>A</th>\n",
       "      <td>35.471756</td>\n",
       "    </tr>\n",
       "    <tr>\n",
       "      <th>B</th>\n",
       "      <td>35.639374</td>\n",
       "    </tr>\n",
       "    <tr>\n",
       "      <th>C</th>\n",
       "      <td>36.686310</td>\n",
       "    </tr>\n",
       "    <tr>\n",
       "      <th>D</th>\n",
       "      <td>38.210446</td>\n",
       "    </tr>\n",
       "    <tr>\n",
       "      <th>E</th>\n",
       "      <td>40.619531</td>\n",
       "    </tr>\n",
       "    <tr>\n",
       "      <th>F</th>\n",
       "      <td>44.191745</td>\n",
       "    </tr>\n",
       "    <tr>\n",
       "      <th>G</th>\n",
       "      <td>46.038512</td>\n",
       "    </tr>\n",
       "    <tr>\n",
       "      <th rowspan=\"7\" valign=\"top\">B</th>\n",
       "      <th>A</th>\n",
       "      <td>32.410552</td>\n",
       "    </tr>\n",
       "    <tr>\n",
       "      <th>B</th>\n",
       "      <td>34.724231</td>\n",
       "    </tr>\n",
       "    <tr>\n",
       "      <th>C</th>\n",
       "      <td>35.371963</td>\n",
       "    </tr>\n",
       "    <tr>\n",
       "      <th>D</th>\n",
       "      <td>37.516742</td>\n",
       "    </tr>\n",
       "    <tr>\n",
       "      <th>E</th>\n",
       "      <td>38.500495</td>\n",
       "    </tr>\n",
       "    <tr>\n",
       "      <th>F</th>\n",
       "      <td>42.675000</td>\n",
       "    </tr>\n",
       "    <tr>\n",
       "      <th>G</th>\n",
       "      <td>39.654545</td>\n",
       "    </tr>\n",
       "  </tbody>\n",
       "</table>\n",
       "</div>"
      ],
      "text/plain": [
       "                  NT_GER\n",
       "QE_I21 QE_I08           \n",
       "A      A       35.471756\n",
       "       B       35.639374\n",
       "       C       36.686310\n",
       "       D       38.210446\n",
       "       E       40.619531\n",
       "       F       44.191745\n",
       "       G       46.038512\n",
       "B      A       32.410552\n",
       "       B       34.724231\n",
       "       C       35.371963\n",
       "       D       37.516742\n",
       "       E       38.500495\n",
       "       F       42.675000\n",
       "       G       39.654545"
      ]
     },
     "execution_count": 19,
     "metadata": {},
     "output_type": "execute_result"
    }
   ],
   "source": [
    "#Média da nota geral dos alunos do curso de economia por faixa de renda e escolaridade dos pais\n",
    "enadeQ21eQE_I08.filter(items=['QE_I21', 'QE_I08', 'NT_GER']).where(enadeQ21eQE_I08.CO_GRUPO==13)\\\n",
    "    .groupby(['QE_I21','QE_I08'], as_index=True)\\\n",
    "    .mean()\\\n",
    "  "
   ]
  },
  {
   "cell_type": "markdown",
   "metadata": {},
   "source": [
    "### Gráfico de Linha da Nota Geral do Curso de Economia Por Faixa de Renda"
   ]
  },
  {
   "cell_type": "code",
   "execution_count": 47,
   "metadata": {},
   "outputs": [
    {
     "data": {
      "image/png": "[encoded data removed]",
      "text/plain": [
       "<Figure size 1152x576 with 1 Axes>"
      ]
     },
     "metadata": {},
     "output_type": "display_data"
    }
   ],
   "source": [
    "plt.style.use('ggplot')\n",
    "fig, ax = plt.subplots()\n",
    "ax.plot(enadeQ21eQE_I08.filter(items=['QE_I08', 'NT_GER']).where(enadeQ21eQE_I08.CO_GRUPO==13)\\\n",
    "    .groupby('QE_I08', as_index=False)\\\n",
    "    .mean()\\\n",
    "    .sort_values(by='NT_GER', ascending=True)['QE_I08'],\n",
    "    enadeQ21eQE_I08.filter(items=['QE_I08', 'NT_GER']).where(enadeQ21eQE_I08.CO_GRUPO==13)\\\n",
    "    .groupby('QE_I08', as_index=False)\\\n",
    "    .mean()\\\n",
    "    .sort_values(by='NT_GER', ascending=True)['NT_GER'])\n",
    "plt.ylim(30, 50)\n",
    "plt.xlabel('Faixa de Renda')\n",
    "plt.ylabel('Nota Geral')\n",
    "plt.title('Média da Nota Geral dos Estudantes de Economia Por Faixa de Renda Declarada no Enade', fontsize=15)\n",
    "ax.text(0.02, 0.65, textoqi08, transform=ax.transAxes, fontsize=10, bbox={'boxstyle':'round','facecolor':'aquamarine','alpha':0.25})\n",
    "\n",
    "plt.savefig('Média da Nota Geral dos Estudantes de Economia Por Faixa de Renda Declarada no Enade.png')"
   ]
  },
  {
   "cell_type": "code",
   "execution_count": 73,
   "metadata": {},
   "outputs": [
    {
     "data": {
      "image/png": "[encoded data removed]",
      "text/plain": [
       "<Figure size 1152x576 with 1 Axes>"
      ]
     },
     "metadata": {},
     "output_type": "display_data"
    }
   ],
   "source": [
    "plt.style.use('ggplot')\n",
    "fig, ax = plt.subplots()\n",
    "ax.scatter(enadeQ21eQE_I08.where((enadeQ21eQE_I08.CO_GRUPO==13) & (enadeQ21eQE_I08.QE_I21=='A'))\\\n",
    "    .groupby('QE_I08', as_index=False)\\\n",
    "    .mean()\\\n",
    "    .sort_values(by='NT_GER', ascending=True)['QE_I08'],\n",
    "    enadeQ21eQE_I08.where((enadeQ21eQE_I08.CO_GRUPO==13) & (enadeQ21eQE_I08.QE_I21=='A'))\\\n",
    "    .groupby('QE_I08', as_index=False)\\\n",
    "    .mean()\\\n",
    "    .sort_values(by='NT_GER', ascending=True)['NT_GER'],\n",
    "    label='Possuem Ensino Superior')\n",
    "ax.scatter(enadeQ21eQE_I08.where((enadeQ21eQE_I08.CO_GRUPO==13) & (enadeQ21eQE_I08.QE_I21=='B'))\\\n",
    "    .groupby('QE_I08', as_index=False)\\\n",
    "    .mean()\\\n",
    "    .sort_values(by='NT_GER', ascending=True)['QE_I08'],\n",
    "    enadeQ21eQE_I08.where((enadeQ21eQE_I08.CO_GRUPO==13) & (enadeQ21eQE_I08.QE_I21=='B'))\\\n",
    "    .groupby('QE_I08', as_index=False)\\\n",
    "    .mean()\\\n",
    "    .sort_values(by='NT_GER', ascending=True)['NT_GER'],\n",
    "    label='Não Possuem Ensino Superior')\n",
    "plt.ylim(30, 50)\n",
    "plt.xlabel('Faixa de Renda')\n",
    "plt.legend(\n",
    "    title='Escolaridade dos Pais',\n",
    "    title_fontsize=11,\n",
    "    loc='upper left',\n",
    "    ncol = 1,\n",
    "    bbox_to_anchor=(0.01,0.97),\n",
    "    frameon=True,\n",
    "    facecolor='white',\n",
    "    shadow=True,\n",
    "    fontsize=10)\n",
    "plt.ylabel('Nota Geral')\n",
    "plt.title('Média da Nota Geral dos Estudantes de Economia Por Faixa de Renda Declarada no Enade', fontsize=15)\n",
    "\n",
    "\n",
    "plt.savefig('Média da Nota Geral dos Estudantes de Economia Por Faixa de Renda Declarada no Enade e Pais que Possuem Ensino Superior.png')"
   ]
  },
  {
   "cell_type": "markdown",
   "metadata": {},
   "source": [
    "# gráfico: renda familiar e nota por renda"
   ]
  },
  {
   "cell_type": "markdown",
   "metadata": {},
   "source": [
    "# Teste de Normalidade"
   ]
  },
  {
   "cell_type": "code",
   "execution_count": null,
   "metadata": {},
   "outputs": [],
   "source": [
    "alpha = 0.05\n",
    "k2, p = spy.normaltest(enadeQ21.where(enadeQ21.QE_I21 == 'A')['NT_GER'])\n",
    "\n",
    "#Hipotese nula: Os dados seguem distribuição normal\n",
    "#Hipotese alternativa: Os dados não seguem distribuição normal\n",
    "\n",
    "if p < alpha:\n",
    "    print(\"A Hipótese Nula pode ser rejeitada\")\n",
    "else:\n",
    "    print(\"A hipótese nula não pode ser rejeitada\")\n",
    "\n"
   ]
  },
  {
   "cell_type": "markdown",
   "metadata": {},
   "source": [
    "Anderson-Darling Test"
   ]
  },
  {
   "cell_type": "code",
   "execution_count": 50,
   "metadata": {},
   "outputs": [
    {
     "name": "stdout",
     "output_type": "stream",
     "text": [
      "Statistic: nan\n",
      "15.000: 0.576, data does not look normal (reject H0)\n",
      "10.000: 0.656, data does not look normal (reject H0)\n",
      "5.000: 0.787, data does not look normal (reject H0)\n",
      "2.500: 0.918, data does not look normal (reject H0)\n",
      "1.000: 1.092, data does not look normal (reject H0)\n"
     ]
    }
   ],
   "source": [
    "result = spy.anderson(enadeQ21.where(enadeQ21.QE_I21 == 'B')['NT_GER'])\n",
    "print('Statistic: %.3f' % result.statistic)\n",
    "p = 0\n",
    "for i in range(len(result.critical_values)):\n",
    "\tsl, cv = result.significance_level[i], result.critical_values[i]\n",
    "\tif result.statistic < result.critical_values[i]:\n",
    "\t\tprint('%.3f: %.3f, data looks normal (fail to reject H0)' % (sl, cv))\n",
    "\telse:\n",
    "\t\tprint('%.3f: %.3f, data does not look normal (reject H0)' % (sl, cv))"
   ]
  },
  {
   "cell_type": "markdown",
   "metadata": {},
   "source": [
    "Teste wilcoxon-mann-whitney"
   ]
  },
  {
   "cell_type": "code",
   "execution_count": 53,
   "metadata": {},
   "outputs": [
    {
     "name": "stdout",
     "output_type": "stream",
     "text": [
      "Different distribution (reject H0)\n"
     ]
    }
   ],
   "source": [
    "stat, p = spy.mannwhitneyu(enadeQ21.where(enadeQ21.QE_I21 == 'A')['NT_GER'].dropna(), enadeQ21.where(enadeQ21.QE_I21 == 'B')['NT_GER'].dropna())\n",
    "alpha = 0.05\n",
    "if p > alpha:\n",
    "\tprint('Same distribution (fail to reject H0)')\n",
    "else:\n",
    "\tprint('Different distribution (reject H0)')"
   ]
  }
 ],
 "metadata": {
  "interpreter": {
   "hash": "08820d80d9da2e8b8362dd7eb175f13515edfba605b5089051618ffd8d1308cc"
  },
  "kernelspec": {
   "display_name": "Python 3.10.1 64-bit",
   "language": "python",
   "name": "python3"
  },
  "language_info": {
   "codemirror_mode": {
    "name": "ipython",
    "version": 3
   },
   "file_extension": ".py",
   "mimetype": "text/x-python",
   "name": "python",
   "nbconvert_exporter": "python",
   "pygments_lexer": "ipython3",
   "version": "3.10.1"
  },
  "orig_nbformat": 4
 },
 "nbformat": 4,
 "nbformat_minor": 2
}
