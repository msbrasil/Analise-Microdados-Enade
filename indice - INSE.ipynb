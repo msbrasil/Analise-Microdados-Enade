{
 "cells": [
  {
   "cell_type": "markdown",
   "metadata": {},
   "source": [
    "Pacotes"
   ]
  },
  {
   "cell_type": "code",
   "execution_count": 1,
   "metadata": {},
   "outputs": [],
   "source": [
    "import pandas as pd\n",
    "import matplotlib.pyplot as plt\n",
    "\n",
    "import matplotlib\n",
    "matplotlib.rcParams['figure.figsize'] = (16,8) # define o tamanho padrão dos gráficos criados"
   ]
  },
  {
   "cell_type": "markdown",
   "metadata": {},
   "source": [
    "Importação"
   ]
  },
  {
   "cell_type": "code",
   "execution_count": 2,
   "metadata": {},
   "outputs": [],
   "source": [
    "path = 'D:/UFPR/2º Semestre 2021/Estatística Econômica e Introdução à Econometria/1. Relatório Enade/2018/3.DADOS/microdados_enade_2018.txt' # caminho do arquivo\n",
    "base = pd.read_table(path, sep=';', decimal=',') # importa arquivo"
   ]
  },
  {
   "cell_type": "code",
   "execution_count": 64,
   "metadata": {},
   "outputs": [],
   "source": [
    "base_idse = base.filter([\n",
    "    'CO_IES',\n",
    "    'CO_CATEGAD',           # Categoria Universidade\n",
    "    'CO_GRUPO',             # Categoria do curso\n",
    "    'CO_UF_CURSO',          # Estado do curso\n",
    "    'CO_MUNIC_CURSO',       # Cidade do curso\n",
    "    'QE_I08',               # Renda total da família\n",
    "    'QE_I09',               # situação financeira\n",
    "    'QE_I04',               # Escolaridade do pai\n",
    "    'QE_I05',               # Escolaridade da mãe\n",
    "    'QE_I17',               # Onde cursou ensino médio\n",
    "    'NT_GER'\n",
    "]).dropna()"
   ]
  },
  {
   "cell_type": "markdown",
   "metadata": {},
   "source": [
    "## Tratamento"
   ]
  },
  {
   "cell_type": "markdown",
   "metadata": {},
   "source": [
    "Nome do curso"
   ]
  },
  {
   "cell_type": "code",
   "execution_count": 220,
   "metadata": {},
   "outputs": [],
   "source": [
    "dict_curso = {\n",
    "1:\"ADMINISTRAÇÃO\",\n",
    "2:\"DIREITO\",\n",
    "13:\"CIÊNCIAS ECONÔMICAS\",\n",
    "18:\"PSICOLOGIA\",\n",
    "22:\"CIÊNCIAS CONTÁBEIS\",\n",
    "26:\"DESIGN\",\n",
    "29:\"TURISMO\",\n",
    "38:\"SERVIÇO SOCIAL\",\n",
    "67:\"SECRETARIADO EXECUTIVO\",\n",
    "81:\"RELAÇÕES INTERNACIONAIS\",\n",
    "83:\"TECNOLOGIA EM DESIGN DE MODA\",\n",
    "84:\"TECNOLOGIA EM MARKETING\",\n",
    "85:\"TECNOLOGIA EM PROCESSOS GERENCIAIS\",\n",
    "86:\"TECNOLOGIA EM GESTÃO DE RECURSOS HUMANOS\",\n",
    "87:\"TECNOLOGIA EM GESTÃO FINANCEIRA\",\n",
    "88:\"TECNOLOGIA EM GASTRONOMIA\",\n",
    "93:\"TECNOLOGIA EM GESTÃO COMERCIAL\",\n",
    "94:\"TECNOLOGIA EM LOGÍSTICA\",\n",
    "100:\"ADMINISTRAÇÃO PÚBLICA\",\n",
    "101:\"TEOLOGIA\",\n",
    "102:\"TECNOLOGIA EM COMÉRCIO EXTERIOR\",\n",
    "103:\"TECNOLOGIA EM DESIGN DE INTERIORES\",\n",
    "104:\"TECNOLOGIA EM DESIGN GRÁFICO\",\n",
    "105:\"TECNOLOGIA EM GESTÃO DA QUALIDADE\",\n",
    "106:\"TECNOLOGIA EM GESTÃO PÚBLICA\",\n",
    "803:\"COMUNICAÇÃO SOCIAL - JORNALISMO\",\n",
    "804:\"COMUNICAÇÃO SOCIAL - PUBLICIDADE E PROPAGANDA\"\n",
    "}"
   ]
  },
  {
   "cell_type": "code",
   "execution_count": 221,
   "metadata": {},
   "outputs": [],
   "source": [
    "base_idse['CO_GRUPO'] = [dict_curso[resp] for resp in base_idse.CO_GRUPO] #substitui os valores pelo nome da regiao"
   ]
  },
  {
   "cell_type": "markdown",
   "metadata": {},
   "source": [
    "Categoria das Universidades"
   ]
  },
  {
   "cell_type": "code",
   "execution_count": 222,
   "metadata": {},
   "outputs": [],
   "source": [
    "categoria_ies = pd.read_excel('categoria-ies.xlsx')"
   ]
  },
  {
   "cell_type": "code",
   "execution_count": 223,
   "metadata": {},
   "outputs": [],
   "source": [
    "dict_categad = {} #Transforma o df das regioes em dicionario\n",
    "for i in range(0,len(categoria_ies)):\n",
    "    dict_categad[categoria_ies['Cod'][i]] = categoria_ies['Categoria'][i]"
   ]
  },
  {
   "cell_type": "code",
   "execution_count": 224,
   "metadata": {},
   "outputs": [],
   "source": [
    "base_idse['CO_CATEGAD'] = [dict_categad[resp] for resp in base_idse.CO_CATEGAD] #substitui os valores pelo nome da regiao"
   ]
  },
  {
   "cell_type": "markdown",
   "metadata": {},
   "source": [
    "Estado do curso"
   ]
  },
  {
   "cell_type": "code",
   "execution_count": 225,
   "metadata": {},
   "outputs": [],
   "source": [
    "ufs = pd.read_excel('codigo-ufs.xlsx')"
   ]
  },
  {
   "cell_type": "code",
   "execution_count": 226,
   "metadata": {},
   "outputs": [],
   "source": [
    "dict_ufs = {} #Transforma o df das regioes em dicionario\n",
    "for i in range(0,len(ufs)):\n",
    "    dict_ufs[ufs['Cod'][i]] = ufs['Nome'][i]"
   ]
  },
  {
   "cell_type": "code",
   "execution_count": 227,
   "metadata": {},
   "outputs": [],
   "source": [
    "base_idse['CO_UF_CURSO'] = [dict_ufs[resp] for resp in base_idse.CO_UF_CURSO] #substitui os valores pelo nome da regiao"
   ]
  },
  {
   "cell_type": "markdown",
   "metadata": {},
   "source": [
    "Municipio do curso"
   ]
  },
  {
   "cell_type": "code",
   "execution_count": 228,
   "metadata": {},
   "outputs": [],
   "source": [
    "municipios = pd.read_excel('codigos-municipios.xlsx')"
   ]
  },
  {
   "cell_type": "code",
   "execution_count": 229,
   "metadata": {},
   "outputs": [],
   "source": [
    "dict_mun = {} #Transforma o df das regioes em dicionario\n",
    "for i in range(0,len(municipios)):\n",
    "    dict_mun[municipios['Cod'][i]] = municipios['Municipio'][i]"
   ]
  },
  {
   "cell_type": "code",
   "execution_count": 230,
   "metadata": {},
   "outputs": [],
   "source": [
    "base_idse['CO_MUNIC_CURSO'] = [dict_mun[resp] for resp in base_idse.CO_MUNIC_CURSO] #substitui os valores pelo nome da regiao"
   ]
  },
  {
   "cell_type": "markdown",
   "metadata": {},
   "source": [
    "Pais (Peso no índice)"
   ]
  },
  {
   "cell_type": "code",
   "execution_count": 231,
   "metadata": {},
   "outputs": [],
   "source": [
    "dict_escolaridade_pais = {\n",
    "\"A\":0,\n",
    "\"B\":0.10,\n",
    "\"C\":0.25,\n",
    "\"D\":0.60,\n",
    "\"E\":0.85,\n",
    "\"F\":1\n",
    "}"
   ]
  },
  {
   "cell_type": "code",
   "execution_count": 232,
   "metadata": {},
   "outputs": [],
   "source": [
    "base_idse['QE_I04'] = [dict_escolaridade_pais[resp] for resp in base_idse.QE_I04] # substitui categoria de educação pelo seu peso"
   ]
  },
  {
   "cell_type": "code",
   "execution_count": 233,
   "metadata": {},
   "outputs": [],
   "source": [
    "base_idse['QE_I05'] = [dict_escolaridade_pais[resp] for resp in base_idse.QE_I05] # substitui categoria de educação pelo seu peso"
   ]
  },
  {
   "cell_type": "markdown",
   "metadata": {},
   "source": [
    "Renda\n"
   ]
  },
  {
   "cell_type": "code",
   "execution_count": 234,
   "metadata": {},
   "outputs": [],
   "source": [
    "dict_renda = {\n",
    "\"A\":0,\n",
    "\"B\":0.26,\n",
    "\"C\":0.45,\n",
    "\"D\":0.61,\n",
    "\"E\":0.76,\n",
    "\"F\":0.89,\n",
    "\"G\":1\n",
    "}"
   ]
  },
  {
   "cell_type": "code",
   "execution_count": 235,
   "metadata": {},
   "outputs": [],
   "source": [
    "base_idse['QE_I08'] = [dict_renda[resp] for resp in base_idse.QE_I08] #substitui a categoria da renda pelo peso"
   ]
  },
  {
   "cell_type": "markdown",
   "metadata": {},
   "source": [
    "Tipo de Ensino Médio"
   ]
  },
  {
   "cell_type": "code",
   "execution_count": 236,
   "metadata": {},
   "outputs": [],
   "source": [
    "dict_em = {\n",
    "\"A\":0,\n",
    "\"B\":0.80,\n",
    "\"C\":0.60,\n",
    "\"D\":0.20,\n",
    "\"E\":0.40,\n",
    "\"F\":1\n",
    "}"
   ]
  },
  {
   "cell_type": "code",
   "execution_count": 237,
   "metadata": {},
   "outputs": [],
   "source": [
    "base_idse['QE_I17'] = [dict_em[resp] for resp in base_idse.QE_I17] #substitui os valores pelo peso"
   ]
  },
  {
   "cell_type": "markdown",
   "metadata": {},
   "source": [
    "Coluna Índice\n"
   ]
  },
  {
   "cell_type": "code",
   "execution_count": 238,
   "metadata": {},
   "outputs": [],
   "source": [
    "base_idse['IDSE'] = (base_idse['QE_I08'] * 0.5 + base_idse['QE_I04'] * 0.10 + base_idse['QE_I05'] * 0.10 + base_idse['QE_I17'] * 0.30) / 1"
   ]
  },
  {
   "cell_type": "code",
   "execution_count": 186,
   "metadata": {},
   "outputs": [
    {
     "data": {
      "text/plain": [
       "Text(0.5, 1.0, 'Distribuição do Índice de Desenvolvimento Socioeconômico Educacional')"
      ]
     },
     "execution_count": 186,
     "metadata": {},
     "output_type": "execute_result"
    },
    {
     "data": {
      "image/png": "[encoded data removed]",
      "text/plain": [
       "<Figure size 1152x576 with 1 Axes>"
      ]
     },
     "metadata": {},
     "output_type": "display_data"
    }
   ],
   "source": [
    "plt.style.use('ggplot')\n",
    "fig, ax = plt.subplots()\n",
    "ax.hist(base_idse['IDSE'], color='royalblue')\n",
    "plt.xlabel('Índice')\n",
    "plt.ylabel('Frequência')\n",
    "plt.title('Distribuição do Índice de Desenvolvimento Socioeconômico Educacional', fontsize=15)"
   ]
  },
  {
   "cell_type": "markdown",
   "metadata": {},
   "source": [
    "## Análise"
   ]
  },
  {
   "cell_type": "markdown",
   "metadata": {},
   "source": [
    "'CO_CATEGAD',           # Categoria Universidade\n",
    "\n",
    "'CO_GRUPO',             # Categoria do curso\n",
    "\n",
    "'CO_UF_CURSO',          # Estado do curso\n",
    "\n",
    "'CO_MUNIC_CURSO',       # Cidade do curso\n",
    "\n",
    "'QE_I08',               # Renda total da família\n",
    "\n",
    "'QE_I04',               # Escolaridade do pai\n",
    "\n",
    "'QE_I05',               # Escolaridade da mãe\n",
    "\n",
    "'QE_I17',               # Onde cursou ensino médio\n",
    "\n",
    "'NT_GER'                # Nota Geral\n"
   ]
  },
  {
   "cell_type": "code",
   "execution_count": 168,
   "metadata": {},
   "outputs": [],
   "source": [
    "comparativo = base.filter(['CO_UF_CURSO', 'QE_I08', 'NT_GER']).dropna()"
   ]
  },
  {
   "cell_type": "code",
   "execution_count": 65,
   "metadata": {},
   "outputs": [],
   "source": [
    "qe_i08respostas = {\n",
    "    \"A\" : \"Até 1,5 salário mínimo (até R$ 1.431,00)\",\n",
    "    \"B\" : \"De 1,5 a 3 salários mínimos (R$ 1.431,01 a R$ 2.862,00)\",\n",
    "    \"C\" : \"De 3 a 4,5 salários mínimos (R$ 2.862,01 a R$ 4.293,00)\",\n",
    "    \"D\" : \"De 4,5 a 6 salários mínimos (R$ 4.293,01 a R$ 5.724,00)\",\n",
    "    \"E\" : \"De 6 a 10 salários mínimos (R$ 5.724,01 a R$ 9.540,00)\",\n",
    "    \"F\" : \"De 10 a 30 salários mínimos (R$ 9.540,01 a R$ 28.620,00)\",\n",
    "    \"G\" : \"Acima de 30 salários mínimos (mais de R$ 28.620,00)\"\n",
    "}"
   ]
  },
  {
   "cell_type": "code",
   "execution_count": 66,
   "metadata": {},
   "outputs": [],
   "source": [
    "base_idse['QE_I08'] = [qe_i08respostas[resp] for resp in base_idse.QE_I08] #substitui as letras pelas respostas"
   ]
  },
  {
   "cell_type": "code",
   "execution_count": 68,
   "metadata": {},
   "outputs": [],
   "source": [
    "qe_i09respostas = {\n",
    "\"A\" : \"Não tenho renda e meus gastos são financiados por programas governamentais.\",\n",
    "\"B\" : \"Não tenho renda e meus gastos são financiados pela minha família ou por outras pessoas.\",\n",
    "\"C\" : \"Tenho renda, mas recebo ajuda da família ou de outras pessoas para financiar meus gastos.\",\n",
    "\"D\" : \"Tenho renda e não preciso de ajuda para financiar meus gastos.\",\n",
    "\"E\" : \"Tenho renda e contribuo com o sustento da família.\",\n",
    "\"F\" : \"Sou o principal responsável pelo sustento da família.\"\n",
    "}"
   ]
  },
  {
   "cell_type": "code",
   "execution_count": 69,
   "metadata": {},
   "outputs": [],
   "source": [
    "base_idse['QE_I09'] = [qe_i09respostas[resp] for resp in base_idse.QE_I09] #substitui as letras pelas respostas"
   ]
  },
  {
   "cell_type": "markdown",
   "metadata": {},
   "source": [
    "---"
   ]
  },
  {
   "cell_type": "markdown",
   "metadata": {},
   "source": [
    "Panorama geral do índice em comparação com outras variáveis"
   ]
  },
  {
   "cell_type": "code",
   "execution_count": 203,
   "metadata": {},
   "outputs": [
    {
     "data": {
      "text/html": [
       "<div>\n",
       "<style scoped>\n",
       "    .dataframe tbody tr th:only-of-type {\n",
       "        vertical-align: middle;\n",
       "    }\n",
       "\n",
       "    .dataframe tbody tr th {\n",
       "        vertical-align: top;\n",
       "    }\n",
       "\n",
       "    .dataframe thead th {\n",
       "        text-align: right;\n",
       "    }\n",
       "</style>\n",
       "<table border=\"1\" class=\"dataframe\">\n",
       "  <thead>\n",
       "    <tr style=\"text-align: right;\">\n",
       "      <th></th>\n",
       "      <th>CO_UF_CURSO</th>\n",
       "      <th>NT_GER</th>\n",
       "    </tr>\n",
       "    <tr>\n",
       "      <th>QE_I08</th>\n",
       "      <th></th>\n",
       "      <th></th>\n",
       "    </tr>\n",
       "  </thead>\n",
       "  <tbody>\n",
       "    <tr>\n",
       "      <th>Acima de 30 salários mínimos (mais de R$ 28.620,00)</th>\n",
       "      <td>7643</td>\n",
       "      <td>7643</td>\n",
       "    </tr>\n",
       "    <tr>\n",
       "      <th>Até 1,5 salário mínimo (até R$ 1.431,00)</th>\n",
       "      <td>88830</td>\n",
       "      <td>88830</td>\n",
       "    </tr>\n",
       "    <tr>\n",
       "      <th>De 1,5 a 3 salários mínimos (R$ 1.431,01 a R$ 2.862,00)</th>\n",
       "      <td>126809</td>\n",
       "      <td>126809</td>\n",
       "    </tr>\n",
       "    <tr>\n",
       "      <th>De 10 a 30 salários mínimos (R$ 9.540,01 a R$ 28.620,00)</th>\n",
       "      <td>33062</td>\n",
       "      <td>33062</td>\n",
       "    </tr>\n",
       "    <tr>\n",
       "      <th>De 3 a 4,5 salários mínimos (R$ 2.862,01 a R$ 4.293,00)</th>\n",
       "      <td>99817</td>\n",
       "      <td>99817</td>\n",
       "    </tr>\n",
       "    <tr>\n",
       "      <th>De 4,5 a 6 salários mínimos (R$ 4.293,01 a R$ 5.724,00)</th>\n",
       "      <td>51564</td>\n",
       "      <td>51564</td>\n",
       "    </tr>\n",
       "    <tr>\n",
       "      <th>De 6 a 10 salários mínimos (R$ 5.724,01 a R$ 9.540,00)</th>\n",
       "      <td>51973</td>\n",
       "      <td>51973</td>\n",
       "    </tr>\n",
       "  </tbody>\n",
       "</table>\n",
       "</div>"
      ],
      "text/plain": [
       "                                                    CO_UF_CURSO  NT_GER\n",
       "QE_I08                                                                 \n",
       "Acima de 30 salários mínimos (mais de R$ 28.620...         7643    7643\n",
       "Até 1,5 salário mínimo (até R$ 1.431,00)                  88830   88830\n",
       "De 1,5 a 3 salários mínimos (R$ 1.431,01 a R$ 2...       126809  126809\n",
       "De 10 a 30 salários mínimos (R$ 9.540,01 a R$ 2...        33062   33062\n",
       "De 3 a 4,5 salários mínimos (R$ 2.862,01 a R$ 4...        99817   99817\n",
       "De 4,5 a 6 salários mínimos (R$ 4.293,01 a R$ 5...        51564   51564\n",
       "De 6 a 10 salários mínimos (R$ 5.724,01 a R$ 9....        51973   51973"
      ]
     },
     "execution_count": 203,
     "metadata": {},
     "output_type": "execute_result"
    }
   ],
   "source": [
    "tabela_renda = comparativo.groupby('QE_I08').count() #classe modal\n",
    "tabela_renda.rename(columns={'QE_I08':'Renda'}, inplace=True)\n",
    "tabela_renda"
   ]
  },
  {
   "cell_type": "code",
   "execution_count": 183,
   "metadata": {},
   "outputs": [
    {
     "data": {
      "text/plain": [
       "0.35544189881182864"
      ]
     },
     "execution_count": 183,
     "metadata": {},
     "output_type": "execute_result"
    }
   ],
   "source": [
    "base_idse['IDSE'].mean() #Média geral do IDSE\n"
   ]
  },
  {
   "cell_type": "code",
   "execution_count": 181,
   "metadata": {},
   "outputs": [
    {
     "data": {
      "text/plain": [
       "QE_I08\n",
       "0.00     88830\n",
       "0.26    126809\n",
       "0.45     99817\n",
       "0.61     51564\n",
       "0.76     51973\n",
       "0.89     33062\n",
       "1.00      7643\n",
       "Name: QE_I08, dtype: int64"
      ]
     },
     "execution_count": 181,
     "metadata": {},
     "output_type": "execute_result"
    }
   ],
   "source": [
    "base_idse.groupby('QE_I08')['QE_I08'].count()"
   ]
  },
  {
   "cell_type": "code",
   "execution_count": 182,
   "metadata": {},
   "outputs": [
    {
     "data": {
      "text/plain": [
       "QE_I17\n",
       "0.0    308368\n",
       "0.2     22581\n",
       "0.4     18166\n",
       "0.6       469\n",
       "0.8    108793\n",
       "1.0      1321\n",
       "Name: QE_I17, dtype: int64"
      ]
     },
     "execution_count": 182,
     "metadata": {},
     "output_type": "execute_result"
    }
   ],
   "source": [
    "base_idse.groupby('QE_I17')['QE_I17'].count()"
   ]
  },
  {
   "cell_type": "code",
   "execution_count": 210,
   "metadata": {},
   "outputs": [
    {
     "data": {
      "text/plain": [
       "0.4687867647058823"
      ]
     },
     "execution_count": 210,
     "metadata": {},
     "output_type": "execute_result"
    }
   ],
   "source": [
    "base_idse.where(base_idse.CO_GRUPO == 'CIÊNCIAS ECONÔMICAS')['IDSE'].mean() # média de curso "
   ]
  },
  {
   "cell_type": "code",
   "execution_count": null,
   "metadata": {},
   "outputs": [],
   "source": [
    "base_idse.where(base_idse.CO_GRUPO == 'CIÊNCIAS ECONÔMICAS')['IDSE'].mean() # média de curso "
   ]
  },
  {
   "cell_type": "code",
   "execution_count": 259,
   "metadata": {},
   "outputs": [
    {
     "data": {
      "text/plain": [
       "CO_CATEGAD\n",
       "Fundação Pública de Direito Privado Municipal                                                 0.403926\n",
       "Pessoa Jurídica de Direito Privado - Com fins lucrativos - Sociedade Civil                    0.322587\n",
       "Pessoa Jurídica de Direito Privado - Com fins lucrativos - Sociedade Mercantil ou Comercia    0.300414\n",
       "Pessoa Jurídica de Direito Privado - Sem fins lucrativos - Associação de Utilidade Pública    0.399872\n",
       "Pessoa Jurídica de Direito Privado - Sem fins lucrativos - Fundação                           0.394674\n",
       "Pessoa Jurídica de Direito Privado - Sem fins lucrativos - Sociedade                          0.374794\n",
       "Pessoa Jurídica de Direito Público - Estadual                                                 0.370148\n",
       "Pessoa Jurídica de Direito Público - Federal                                                  0.426759\n",
       "Pessoa Jurídica de Direito Público - Municipal                                                0.393578\n",
       "Privada com fins lucrativos                                                                   0.316079\n",
       "Privada sem fins lucrativos                                                                   0.390871\n",
       "Name: IDSE, dtype: float64"
      ]
     },
     "execution_count": 259,
     "metadata": {},
     "output_type": "execute_result"
    }
   ],
   "source": [
    "base_idse.groupby('CO_CATEGAD')['IDSE'].mean()"
   ]
  },
  {
   "cell_type": "code",
   "execution_count": 240,
   "metadata": {},
   "outputs": [
    {
     "data": {
      "text/plain": [
       "CO_UF_CURSO\n",
       "Acre                    0.335077\n",
       "Alagoas                 0.384481\n",
       "Amapa                   0.320475\n",
       "Amazonas                0.329051\n",
       "Bahia                   0.303653\n",
       "Ceará                   0.344095\n",
       "Distrito federal        0.429666\n",
       "Espírito Santo          0.370092\n",
       "Goiás                   0.336266\n",
       "Maranhão                0.318637\n",
       "Mato Grosso             0.312485\n",
       "Mato Grosso do Sul      0.324477\n",
       "Minas gerais            0.346635\n",
       "Paraná                  0.322921\n",
       "Paraíba                 0.340284\n",
       "Pará                    0.366334\n",
       "Pernambuco              0.365194\n",
       "Piauí                   0.339970\n",
       "Rio Grande do Norte     0.344901\n",
       "Rio Grande do Sul       0.374400\n",
       "Rio de Janeiro          0.404741\n",
       "Rondônia                0.322216\n",
       "Roraima                 0.313366\n",
       "Santa Catarina          0.357005\n",
       "Sergipe                 0.363257\n",
       "São Paulo               0.364390\n",
       "Tocantins               0.310573\n",
       "Name: IDSE, dtype: float64"
      ]
     },
     "execution_count": 240,
     "metadata": {},
     "output_type": "execute_result"
    }
   ],
   "source": [
    "base_idse.groupby('CO_UF_CURSO')['IDSE'].mean()"
   ]
  },
  {
   "cell_type": "code",
   "execution_count": 241,
   "metadata": {},
   "outputs": [
    {
     "data": {
      "text/plain": [
       "0.521407867494824"
      ]
     },
     "execution_count": 241,
     "metadata": {},
     "output_type": "execute_result"
    }
   ],
   "source": [
    "base_idse.where(base_idse.CO_IES==571)['IDSE'].mean() # IDSE médio para o curso o estado do paraná"
   ]
  },
  {
   "cell_type": "code",
   "execution_count": 243,
   "metadata": {},
   "outputs": [
    {
     "data": {
      "text/plain": [
       "0.389742268041237"
      ]
     },
     "execution_count": 243,
     "metadata": {},
     "output_type": "execute_result"
    }
   ],
   "source": [
    "base_idse.where((base_idse.CO_IES==571) & (base_idse.CO_GRUPO=='CIÊNCIAS ECONÔMICAS'))['IDSE'].mean() # IDSE médio para o curso o estado do paraná"
   ]
  },
  {
   "cell_type": "code",
   "execution_count": 255,
   "metadata": {},
   "outputs": [
    {
     "data": {
      "text/plain": [
       "CO_GRUPO\n",
       "SERVIÇO SOCIAL                                   0.223587\n",
       "ADMINISTRAÇÃO PÚBLICA                            0.258696\n",
       "TECNOLOGIA EM GESTÃO PÚBLICA                     0.303462\n",
       "CIÊNCIAS ECONÔMICAS                              0.389742\n",
       "TECNOLOGIA EM GESTÃO DA QUALIDADE                0.397250\n",
       "TURISMO                                          0.406471\n",
       "CIÊNCIAS CONTÁBEIS                               0.466915\n",
       "DESIGN                                           0.525078\n",
       "PSICOLOGIA                                       0.559932\n",
       "ADMINISTRAÇÃO                                    0.580995\n",
       "COMUNICAÇÃO SOCIAL - PUBLICIDADE E PROPAGANDA    0.587000\n",
       "COMUNICAÇÃO SOCIAL - JORNALISMO                  0.600517\n",
       "DIREITO                                          0.639425\n",
       "Name: IDSE, dtype: float64"
      ]
     },
     "execution_count": 255,
     "metadata": {},
     "output_type": "execute_result"
    }
   ],
   "source": [
    "base_idse.where(base_idse.CO_IES==571).groupby('CO_GRUPO')['IDSE'].mean().sort_values() # IDSE médio para o curso o estado do paraná"
   ]
  },
  {
   "cell_type": "code",
   "execution_count": 70,
   "metadata": {},
   "outputs": [],
   "source": [
    "ordem8 = [\n",
    "\"Até 1,5 salário mínimo (até R$ 1.431,00)\",\n",
    "\"De 1,5 a 3 salários mínimos (R$ 1.431,01 a R$ 2.862,00)\",\n",
    "\"De 3 a 4,5 salários mínimos (R$ 2.862,01 a R$ 4.293,00)\",\n",
    "\"De 4,5 a 6 salários mínimos (R$ 4.293,01 a R$ 5.724,00)\",\n",
    "\"De 6 a 10 salários mínimos (R$ 5.724,01 a R$ 9.540,00)\",\n",
    "\"De 10 a 30 salários mínimos (R$ 9.540,01 a R$ 28.620,00)\",\n",
    "\"Acima de 30 salários mínimos (mais de R$ 28.620,00)\"\n",
    "]"
   ]
  },
  {
   "cell_type": "code",
   "execution_count": 71,
   "metadata": {},
   "outputs": [],
   "source": [
    "ordem9 = [\n",
    "\"Não tenho renda e meus gastos são financiados por programas governamentais.\",\n",
    "\"Não tenho renda e meus gastos são financiados pela minha família ou por outras pessoas.\",\n",
    "\"Tenho renda, mas recebo ajuda da família ou de outras pessoas para financiar meus gastos.\",\n",
    "\"Tenho renda e não preciso de ajuda para financiar meus gastos.\",\n",
    "\"Tenho renda e contribuo com o sustento da família.\",\n",
    "\"Sou o principal responsável pelo sustento da família.\"\n",
    "]"
   ]
  },
  {
   "cell_type": "code",
   "execution_count": 72,
   "metadata": {},
   "outputs": [
    {
     "data": {
      "text/html": [
       "<div>\n",
       "<style scoped>\n",
       "    .dataframe tbody tr th:only-of-type {\n",
       "        vertical-align: middle;\n",
       "    }\n",
       "\n",
       "    .dataframe tbody tr th {\n",
       "        vertical-align: top;\n",
       "    }\n",
       "\n",
       "    .dataframe thead th {\n",
       "        text-align: right;\n",
       "    }\n",
       "</style>\n",
       "<table border=\"1\" class=\"dataframe\">\n",
       "  <thead>\n",
       "    <tr style=\"text-align: right;\">\n",
       "      <th></th>\n",
       "      <th>CO_IES</th>\n",
       "      <th>CO_CATEGAD</th>\n",
       "      <th>CO_GRUPO</th>\n",
       "      <th>CO_UF_CURSO</th>\n",
       "      <th>CO_MUNIC_CURSO</th>\n",
       "      <th>QE_I08</th>\n",
       "      <th>QE_I09</th>\n",
       "      <th>QE_I04</th>\n",
       "      <th>QE_I05</th>\n",
       "      <th>QE_I17</th>\n",
       "      <th>NT_GER</th>\n",
       "    </tr>\n",
       "  </thead>\n",
       "  <tbody>\n",
       "    <tr>\n",
       "      <th>0</th>\n",
       "      <td>1356</td>\n",
       "      <td>10003</td>\n",
       "      <td>1</td>\n",
       "      <td>35</td>\n",
       "      <td>3546603</td>\n",
       "      <td>De 3 a 4,5 salários mínimos (R$ 2.862,01 a R$ ...</td>\n",
       "      <td>Não tenho renda e meus gastos são financiados ...</td>\n",
       "      <td>D</td>\n",
       "      <td>D</td>\n",
       "      <td>A</td>\n",
       "      <td>42.8</td>\n",
       "    </tr>\n",
       "    <tr>\n",
       "      <th>1</th>\n",
       "      <td>1356</td>\n",
       "      <td>10003</td>\n",
       "      <td>1</td>\n",
       "      <td>35</td>\n",
       "      <td>3546603</td>\n",
       "      <td>De 4,5 a 6 salários mínimos (R$ 4.293,01 a R$ ...</td>\n",
       "      <td>Tenho renda e contribuo com o sustento da famí...</td>\n",
       "      <td>B</td>\n",
       "      <td>B</td>\n",
       "      <td>A</td>\n",
       "      <td>59.3</td>\n",
       "    </tr>\n",
       "    <tr>\n",
       "      <th>2</th>\n",
       "      <td>1356</td>\n",
       "      <td>10003</td>\n",
       "      <td>1</td>\n",
       "      <td>35</td>\n",
       "      <td>3546603</td>\n",
       "      <td>De 6 a 10 salários mínimos (R$ 5.724,01 a R$ 9...</td>\n",
       "      <td>Tenho renda e não preciso de ajuda para financ...</td>\n",
       "      <td>D</td>\n",
       "      <td>D</td>\n",
       "      <td>A</td>\n",
       "      <td>60.9</td>\n",
       "    </tr>\n",
       "    <tr>\n",
       "      <th>3</th>\n",
       "      <td>1356</td>\n",
       "      <td>10003</td>\n",
       "      <td>1</td>\n",
       "      <td>35</td>\n",
       "      <td>3546603</td>\n",
       "      <td>De 4,5 a 6 salários mínimos (R$ 4.293,01 a R$ ...</td>\n",
       "      <td>Tenho renda e não preciso de ajuda para financ...</td>\n",
       "      <td>D</td>\n",
       "      <td>D</td>\n",
       "      <td>A</td>\n",
       "      <td>25.0</td>\n",
       "    </tr>\n",
       "    <tr>\n",
       "      <th>4</th>\n",
       "      <td>1356</td>\n",
       "      <td>10003</td>\n",
       "      <td>1</td>\n",
       "      <td>35</td>\n",
       "      <td>3546603</td>\n",
       "      <td>De 6 a 10 salários mínimos (R$ 5.724,01 a R$ 9...</td>\n",
       "      <td>Tenho renda e não preciso de ajuda para financ...</td>\n",
       "      <td>C</td>\n",
       "      <td>C</td>\n",
       "      <td>A</td>\n",
       "      <td>42.4</td>\n",
       "    </tr>\n",
       "  </tbody>\n",
       "</table>\n",
       "</div>"
      ],
      "text/plain": [
       "   CO_IES  CO_CATEGAD  CO_GRUPO  CO_UF_CURSO  CO_MUNIC_CURSO  \\\n",
       "0    1356       10003         1           35         3546603   \n",
       "1    1356       10003         1           35         3546603   \n",
       "2    1356       10003         1           35         3546603   \n",
       "3    1356       10003         1           35         3546603   \n",
       "4    1356       10003         1           35         3546603   \n",
       "\n",
       "                                              QE_I08  \\\n",
       "0  De 3 a 4,5 salários mínimos (R$ 2.862,01 a R$ ...   \n",
       "1  De 4,5 a 6 salários mínimos (R$ 4.293,01 a R$ ...   \n",
       "2  De 6 a 10 salários mínimos (R$ 5.724,01 a R$ 9...   \n",
       "3  De 4,5 a 6 salários mínimos (R$ 4.293,01 a R$ ...   \n",
       "4  De 6 a 10 salários mínimos (R$ 5.724,01 a R$ 9...   \n",
       "\n",
       "                                              QE_I09 QE_I04 QE_I05 QE_I17  \\\n",
       "0  Não tenho renda e meus gastos são financiados ...      D      D      A   \n",
       "1  Tenho renda e contribuo com o sustento da famí...      B      B      A   \n",
       "2  Tenho renda e não preciso de ajuda para financ...      D      D      A   \n",
       "3  Tenho renda e não preciso de ajuda para financ...      D      D      A   \n",
       "4  Tenho renda e não preciso de ajuda para financ...      C      C      A   \n",
       "\n",
       "   NT_GER  \n",
       "0    42.8  \n",
       "1    59.3  \n",
       "2    60.9  \n",
       "3    25.0  \n",
       "4    42.4  "
      ]
     },
     "execution_count": 72,
     "metadata": {},
     "output_type": "execute_result"
    }
   ],
   "source": [
    "base_idse.head()"
   ]
  },
  {
   "cell_type": "code",
   "execution_count": 73,
   "metadata": {},
   "outputs": [
    {
     "name": "stderr",
     "output_type": "stream",
     "text": [
      "C:\\Users\\mathe\\AppData\\Local\\Temp\\ipykernel_9300\\3026368620.py:4: FutureWarning: The `inplace` parameter in pandas.Categorical.reorder_categories is deprecated and will be removed in a future version. Reordering categories will always return a new Categorical object.\n",
      "  relacao['QE_I08'].cat.reorder_categories(ordem8, inplace=True)\n",
      "C:\\Users\\mathe\\AppData\\Local\\Temp\\ipykernel_9300\\3026368620.py:5: FutureWarning: The `inplace` parameter in pandas.Categorical.reorder_categories is deprecated and will be removed in a future version. Reordering categories will always return a new Categorical object.\n",
      "  relacao['QE_I09'].cat.reorder_categories(ordem9, inplace=True)\n"
     ]
    }
   ],
   "source": [
    "relacao = base_idse.filter(['QE_I08','QE_I09','NT_GER'])\n",
    "relacao['QE_I08'] = relacao['QE_I08'].astype('category')\n",
    "relacao['QE_I09'] = relacao['QE_I09'].astype('category')\n",
    "relacao['QE_I08'].cat.reorder_categories(ordem8, inplace=True)\n",
    "relacao['QE_I09'].cat.reorder_categories(ordem9, inplace=True)"
   ]
  },
  {
   "cell_type": "code",
   "execution_count": 81,
   "metadata": {},
   "outputs": [
    {
     "data": {
      "text/html": [
       "<div>\n",
       "<style scoped>\n",
       "    .dataframe tbody tr th:only-of-type {\n",
       "        vertical-align: middle;\n",
       "    }\n",
       "\n",
       "    .dataframe tbody tr th {\n",
       "        vertical-align: top;\n",
       "    }\n",
       "\n",
       "    .dataframe thead th {\n",
       "        text-align: right;\n",
       "    }\n",
       "</style>\n",
       "<table border=\"1\" class=\"dataframe\">\n",
       "  <thead>\n",
       "    <tr style=\"text-align: right;\">\n",
       "      <th></th>\n",
       "      <th></th>\n",
       "      <th>NT_GER</th>\n",
       "    </tr>\n",
       "    <tr>\n",
       "      <th>QE_I08</th>\n",
       "      <th>QE_I09</th>\n",
       "      <th></th>\n",
       "    </tr>\n",
       "  </thead>\n",
       "  <tbody>\n",
       "    <tr>\n",
       "      <th rowspan=\"6\" valign=\"top\">Até 1,5 salário mínimo (até R$ 1.431,00)</th>\n",
       "      <th>Não tenho renda e meus gastos são financiados por programas governamentais.</th>\n",
       "      <td>41.171666</td>\n",
       "    </tr>\n",
       "    <tr>\n",
       "      <th>Não tenho renda e meus gastos são financiados pela minha família ou por outras pessoas.</th>\n",
       "      <td>39.143492</td>\n",
       "    </tr>\n",
       "    <tr>\n",
       "      <th>Tenho renda, mas recebo ajuda da família ou de outras pessoas para financiar meus gastos.</th>\n",
       "      <td>39.402387</td>\n",
       "    </tr>\n",
       "    <tr>\n",
       "      <th>Tenho renda e não preciso de ajuda para financiar meus gastos.</th>\n",
       "      <td>38.022723</td>\n",
       "    </tr>\n",
       "    <tr>\n",
       "      <th>Tenho renda e contribuo com o sustento da família.</th>\n",
       "      <td>36.124448</td>\n",
       "    </tr>\n",
       "    <tr>\n",
       "      <th>Sou o principal responsável pelo sustento da família.</th>\n",
       "      <td>36.568010</td>\n",
       "    </tr>\n",
       "    <tr>\n",
       "      <th rowspan=\"6\" valign=\"top\">De 1,5 a 3 salários mínimos (R$ 1.431,01 a R$ 2.862,00)</th>\n",
       "      <th>Não tenho renda e meus gastos são financiados por programas governamentais.</th>\n",
       "      <td>41.547903</td>\n",
       "    </tr>\n",
       "    <tr>\n",
       "      <th>Não tenho renda e meus gastos são financiados pela minha família ou por outras pessoas.</th>\n",
       "      <td>41.195531</td>\n",
       "    </tr>\n",
       "    <tr>\n",
       "      <th>Tenho renda, mas recebo ajuda da família ou de outras pessoas para financiar meus gastos.</th>\n",
       "      <td>40.774939</td>\n",
       "    </tr>\n",
       "    <tr>\n",
       "      <th>Tenho renda e não preciso de ajuda para financiar meus gastos.</th>\n",
       "      <td>38.932952</td>\n",
       "    </tr>\n",
       "    <tr>\n",
       "      <th>Tenho renda e contribuo com o sustento da família.</th>\n",
       "      <td>38.121846</td>\n",
       "    </tr>\n",
       "    <tr>\n",
       "      <th>Sou o principal responsável pelo sustento da família.</th>\n",
       "      <td>38.757060</td>\n",
       "    </tr>\n",
       "    <tr>\n",
       "      <th rowspan=\"6\" valign=\"top\">De 3 a 4,5 salários mínimos (R$ 2.862,01 a R$ 4.293,00)</th>\n",
       "      <th>Não tenho renda e meus gastos são financiados por programas governamentais.</th>\n",
       "      <td>42.672981</td>\n",
       "    </tr>\n",
       "    <tr>\n",
       "      <th>Não tenho renda e meus gastos são financiados pela minha família ou por outras pessoas.</th>\n",
       "      <td>43.062050</td>\n",
       "    </tr>\n",
       "    <tr>\n",
       "      <th>Tenho renda, mas recebo ajuda da família ou de outras pessoas para financiar meus gastos.</th>\n",
       "      <td>42.672340</td>\n",
       "    </tr>\n",
       "    <tr>\n",
       "      <th>Tenho renda e não preciso de ajuda para financiar meus gastos.</th>\n",
       "      <td>40.237910</td>\n",
       "    </tr>\n",
       "    <tr>\n",
       "      <th>Tenho renda e contribuo com o sustento da família.</th>\n",
       "      <td>39.821880</td>\n",
       "    </tr>\n",
       "    <tr>\n",
       "      <th>Sou o principal responsável pelo sustento da família.</th>\n",
       "      <td>41.404727</td>\n",
       "    </tr>\n",
       "    <tr>\n",
       "      <th rowspan=\"6\" valign=\"top\">De 4,5 a 6 salários mínimos (R$ 4.293,01 a R$ 5.724,00)</th>\n",
       "      <th>Não tenho renda e meus gastos são financiados por programas governamentais.</th>\n",
       "      <td>42.957001</td>\n",
       "    </tr>\n",
       "    <tr>\n",
       "      <th>Não tenho renda e meus gastos são financiados pela minha família ou por outras pessoas.</th>\n",
       "      <td>44.492455</td>\n",
       "    </tr>\n",
       "    <tr>\n",
       "      <th>Tenho renda, mas recebo ajuda da família ou de outras pessoas para financiar meus gastos.</th>\n",
       "      <td>44.463497</td>\n",
       "    </tr>\n",
       "    <tr>\n",
       "      <th>Tenho renda e não preciso de ajuda para financiar meus gastos.</th>\n",
       "      <td>41.820779</td>\n",
       "    </tr>\n",
       "    <tr>\n",
       "      <th>Tenho renda e contribuo com o sustento da família.</th>\n",
       "      <td>41.387655</td>\n",
       "    </tr>\n",
       "    <tr>\n",
       "      <th>Sou o principal responsável pelo sustento da família.</th>\n",
       "      <td>43.457284</td>\n",
       "    </tr>\n",
       "    <tr>\n",
       "      <th rowspan=\"6\" valign=\"top\">De 6 a 10 salários mínimos (R$ 5.724,01 a R$ 9.540,00)</th>\n",
       "      <th>Não tenho renda e meus gastos são financiados por programas governamentais.</th>\n",
       "      <td>42.897806</td>\n",
       "    </tr>\n",
       "    <tr>\n",
       "      <th>Não tenho renda e meus gastos são financiados pela minha família ou por outras pessoas.</th>\n",
       "      <td>46.584000</td>\n",
       "    </tr>\n",
       "    <tr>\n",
       "      <th>Tenho renda, mas recebo ajuda da família ou de outras pessoas para financiar meus gastos.</th>\n",
       "      <td>46.912305</td>\n",
       "    </tr>\n",
       "    <tr>\n",
       "      <th>Tenho renda e não preciso de ajuda para financiar meus gastos.</th>\n",
       "      <td>43.574535</td>\n",
       "    </tr>\n",
       "    <tr>\n",
       "      <th>Tenho renda e contribuo com o sustento da família.</th>\n",
       "      <td>43.302645</td>\n",
       "    </tr>\n",
       "    <tr>\n",
       "      <th>Sou o principal responsável pelo sustento da família.</th>\n",
       "      <td>45.914433</td>\n",
       "    </tr>\n",
       "    <tr>\n",
       "      <th rowspan=\"6\" valign=\"top\">De 10 a 30 salários mínimos (R$ 9.540,01 a R$ 28.620,00)</th>\n",
       "      <th>Não tenho renda e meus gastos são financiados por programas governamentais.</th>\n",
       "      <td>44.769737</td>\n",
       "    </tr>\n",
       "    <tr>\n",
       "      <th>Não tenho renda e meus gastos são financiados pela minha família ou por outras pessoas.</th>\n",
       "      <td>48.958353</td>\n",
       "    </tr>\n",
       "    <tr>\n",
       "      <th>Tenho renda, mas recebo ajuda da família ou de outras pessoas para financiar meus gastos.</th>\n",
       "      <td>49.305301</td>\n",
       "    </tr>\n",
       "    <tr>\n",
       "      <th>Tenho renda e não preciso de ajuda para financiar meus gastos.</th>\n",
       "      <td>46.012643</td>\n",
       "    </tr>\n",
       "    <tr>\n",
       "      <th>Tenho renda e contribuo com o sustento da família.</th>\n",
       "      <td>46.623184</td>\n",
       "    </tr>\n",
       "    <tr>\n",
       "      <th>Sou o principal responsável pelo sustento da família.</th>\n",
       "      <td>50.315776</td>\n",
       "    </tr>\n",
       "    <tr>\n",
       "      <th rowspan=\"6\" valign=\"top\">Acima de 30 salários mínimos (mais de R$ 28.620,00)</th>\n",
       "      <th>Não tenho renda e meus gastos são financiados por programas governamentais.</th>\n",
       "      <td>33.390000</td>\n",
       "    </tr>\n",
       "    <tr>\n",
       "      <th>Não tenho renda e meus gastos são financiados pela minha família ou por outras pessoas.</th>\n",
       "      <td>49.646410</td>\n",
       "    </tr>\n",
       "    <tr>\n",
       "      <th>Tenho renda, mas recebo ajuda da família ou de outras pessoas para financiar meus gastos.</th>\n",
       "      <td>48.662540</td>\n",
       "    </tr>\n",
       "    <tr>\n",
       "      <th>Tenho renda e não preciso de ajuda para financiar meus gastos.</th>\n",
       "      <td>43.709133</td>\n",
       "    </tr>\n",
       "    <tr>\n",
       "      <th>Tenho renda e contribuo com o sustento da família.</th>\n",
       "      <td>48.599165</td>\n",
       "    </tr>\n",
       "    <tr>\n",
       "      <th>Sou o principal responsável pelo sustento da família.</th>\n",
       "      <td>51.425697</td>\n",
       "    </tr>\n",
       "  </tbody>\n",
       "</table>\n",
       "</div>"
      ],
      "text/plain": [
       "                                                                                                          NT_GER\n",
       "QE_I08                                             QE_I09                                                       \n",
       "Até 1,5 salário mínimo (até R$ 1.431,00)           Não tenho renda e meus gastos são financiados p...  41.171666\n",
       "                                                   Não tenho renda e meus gastos são financiados p...  39.143492\n",
       "                                                   Tenho renda, mas recebo ajuda da família ou de ...  39.402387\n",
       "                                                   Tenho renda e não preciso de ajuda para financi...  38.022723\n",
       "                                                   Tenho renda e contribuo com o sustento da família.  36.124448\n",
       "                                                   Sou o principal responsável pelo sustento da fa...  36.568010\n",
       "De 1,5 a 3 salários mínimos (R$ 1.431,01 a R$ 2... Não tenho renda e meus gastos são financiados p...  41.547903\n",
       "                                                   Não tenho renda e meus gastos são financiados p...  41.195531\n",
       "                                                   Tenho renda, mas recebo ajuda da família ou de ...  40.774939\n",
       "                                                   Tenho renda e não preciso de ajuda para financi...  38.932952\n",
       "                                                   Tenho renda e contribuo com o sustento da família.  38.121846\n",
       "                                                   Sou o principal responsável pelo sustento da fa...  38.757060\n",
       "De 3 a 4,5 salários mínimos (R$ 2.862,01 a R$ 4... Não tenho renda e meus gastos são financiados p...  42.672981\n",
       "                                                   Não tenho renda e meus gastos são financiados p...  43.062050\n",
       "                                                   Tenho renda, mas recebo ajuda da família ou de ...  42.672340\n",
       "                                                   Tenho renda e não preciso de ajuda para financi...  40.237910\n",
       "                                                   Tenho renda e contribuo com o sustento da família.  39.821880\n",
       "                                                   Sou o principal responsável pelo sustento da fa...  41.404727\n",
       "De 4,5 a 6 salários mínimos (R$ 4.293,01 a R$ 5... Não tenho renda e meus gastos são financiados p...  42.957001\n",
       "                                                   Não tenho renda e meus gastos são financiados p...  44.492455\n",
       "                                                   Tenho renda, mas recebo ajuda da família ou de ...  44.463497\n",
       "                                                   Tenho renda e não preciso de ajuda para financi...  41.820779\n",
       "                                                   Tenho renda e contribuo com o sustento da família.  41.387655\n",
       "                                                   Sou o principal responsável pelo sustento da fa...  43.457284\n",
       "De 6 a 10 salários mínimos (R$ 5.724,01 a R$ 9.... Não tenho renda e meus gastos são financiados p...  42.897806\n",
       "                                                   Não tenho renda e meus gastos são financiados p...  46.584000\n",
       "                                                   Tenho renda, mas recebo ajuda da família ou de ...  46.912305\n",
       "                                                   Tenho renda e não preciso de ajuda para financi...  43.574535\n",
       "                                                   Tenho renda e contribuo com o sustento da família.  43.302645\n",
       "                                                   Sou o principal responsável pelo sustento da fa...  45.914433\n",
       "De 10 a 30 salários mínimos (R$ 9.540,01 a R$ 2... Não tenho renda e meus gastos são financiados p...  44.769737\n",
       "                                                   Não tenho renda e meus gastos são financiados p...  48.958353\n",
       "                                                   Tenho renda, mas recebo ajuda da família ou de ...  49.305301\n",
       "                                                   Tenho renda e não preciso de ajuda para financi...  46.012643\n",
       "                                                   Tenho renda e contribuo com o sustento da família.  46.623184\n",
       "                                                   Sou o principal responsável pelo sustento da fa...  50.315776\n",
       "Acima de 30 salários mínimos (mais de R$ 28.620... Não tenho renda e meus gastos são financiados p...  33.390000\n",
       "                                                   Não tenho renda e meus gastos são financiados p...  49.646410\n",
       "                                                   Tenho renda, mas recebo ajuda da família ou de ...  48.662540\n",
       "                                                   Tenho renda e não preciso de ajuda para financi...  43.709133\n",
       "                                                   Tenho renda e contribuo com o sustento da família.  48.599165\n",
       "                                                   Sou o principal responsável pelo sustento da fa...  51.425697"
      ]
     },
     "execution_count": 81,
     "metadata": {},
     "output_type": "execute_result"
    }
   ],
   "source": [
    "relacao.groupby(['QE_I08', 'QE_I09']).mean()"
   ]
  },
  {
   "cell_type": "code",
   "execution_count": 80,
   "metadata": {},
   "outputs": [
    {
     "data": {
      "text/plain": [
       "<AxesSubplot:xlabel='QE_I08'>"
      ]
     },
     "execution_count": 80,
     "metadata": {},
     "output_type": "execute_result"
    },
    {
     "data": {
      "image/png": "[encoded data removed]",
      "text/plain": [
       "<Figure size 1152x576 with 1 Axes>"
      ]
     },
     "metadata": {
      "needs_background": "light"
     },
     "output_type": "display_data"
    }
   ],
   "source": [
    "relacao.groupby(['QE_I08', 'QE_I09']).mean().unstack().plot()"
   ]
  }
 ],
 "metadata": {
  "interpreter": {
   "hash": "08820d80d9da2e8b8362dd7eb175f13515edfba605b5089051618ffd8d1308cc"
  },
  "kernelspec": {
   "display_name": "Python 3.10.1 64-bit",
   "language": "python",
   "name": "python3"
  },
  "language_info": {
   "codemirror_mode": {
    "name": "ipython",
    "version": 3
   },
   "file_extension": ".py",
   "mimetype": "text/x-python",
   "name": "python",
   "nbconvert_exporter": "python",
   "pygments_lexer": "ipython3",
   "version": "3.10.1"
  },
  "orig_nbformat": 4
 },
 "nbformat": 4,
 "nbformat_minor": 2
}
